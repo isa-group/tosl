{
  "cells": [
    {
      "cell_type": "code",
      "execution_count": null,
      "metadata": {
        "id": "FEc7bXNT3LYC"
      },
      "outputs": [],
      "source": [
        "! pip install -r ../../requirements.txt"
      ]
    },
    {
      "cell_type": "markdown",
      "metadata": {},
      "source": [
        "# Elsevier API Service Agreement\n",
        "This notebook contains the execution of 8 queries to identify potentially unfair terms in the TOSL representation of the agreement.\n",
        "\n",
        "The following code allows the queries to be executed automatically."
      ]
    },
    {
      "cell_type": "code",
      "execution_count": 15,
      "metadata": {
        "colab": {
          "base_uri": "https://localhost:8080/"
        },
        "id": "UrfTESEy6Ytk",
        "outputId": "cde1275b-50e8-4487-a7d3-039b475adc55"
      },
      "outputs": [],
      "source": [
        "import warnings\n",
        "warnings.filterwarnings(\"ignore\")\n",
        "\n",
        "import pandas as pd\n",
        "from tabulate import tabulate\n",
        "from rdflib import Graph\n",
        "\n",
        "def tabulate_result(results):\n",
        "    rows = [row.asdict() for row in results]\n",
        "    df = pd.DataFrame(rows)\n",
        "    print(tabulate(df, headers=df.columns))\n",
        "\n",
        "def run_sparql_query(file_path, query_file, file_format=\"ttl\"):\n",
        "    g = Graph()\n",
        "    g.parse(file_path, format=file_format)\n",
        "\n",
        "    with open(query_file, \"r\") as f:\n",
        "        query = f.read()\n",
        "\n",
        "    results = g.query(query)\n",
        "    tabulate_result(results)\n",
        "\n",
        "file_path = \"../examples/elsevier/API_Service_Agreement_2017.ttl\"\n",
        "file_format = \"ttl\" "
      ]
    },
    {
      "cell_type": "markdown",
      "metadata": {},
      "source": [
        "## Unfair Arbitration Terms\n",
        "Does the agreement include any arbitration clauses? If so, are they related to litigation?"
      ]
    },
    {
      "cell_type": "code",
      "execution_count": 16,
      "metadata": {},
      "outputs": [
        {
          "name": "stdout",
          "output_type": "stream",
          "text": [
            "\n"
          ]
        }
      ],
      "source": [
        "query_file = \"../../sparql_queries/unfair_terms/arbitration.rq\" \n",
        "run_sparql_query(file_path, query_file, file_format)"
      ]
    },
    {
      "cell_type": "markdown",
      "metadata": {},
      "source": [
        "## Unfair Choice by Law\n",
        "Are there any dispute resolution clauses that apply a law other than the consumer’s place of residence?"
      ]
    },
    {
      "cell_type": "code",
      "execution_count": 17,
      "metadata": {},
      "outputs": [
        {
          "name": "stdout",
          "output_type": "stream",
          "text": [
            "    dispute                         litigation                       law\n",
            "--  ------------------------------  -------------------------------  ---------------------------------\n",
            " 0  http://example.com/agreement01  http://example.com/litigation01  http://example.com/netherlandsLaw\n"
          ]
        }
      ],
      "source": [
        "query_file = \"../../sparql_queries/unfair_terms/choice_of_law.rq\" \n",
        "run_sparql_query(file_path, query_file, file_format)"
      ]
    },
    {
      "cell_type": "markdown",
      "metadata": {},
      "source": [
        "## Unfair Content Removal \n",
        "Is removal allowed without reason, notice, or possibility of recovery?"
      ]
    },
    {
      "cell_type": "code",
      "execution_count": 18,
      "metadata": {},
      "outputs": [
        {
          "name": "stdout",
          "output_type": "stream",
          "text": [
            "\n"
          ]
        }
      ],
      "source": [
        "query_file = \"../../sparql_queries/unfair_terms/content_removal.rq\" \n",
        "run_sparql_query(file_path, query_file, file_format)"
      ]
    },
    {
      "cell_type": "markdown",
      "metadata": {},
      "source": [
        "## Unfair Contract by Using\n",
        "Is the consumer considered to have accepted the contract by mere use or implied consent?\t"
      ]
    },
    {
      "cell_type": "code",
      "execution_count": 19,
      "metadata": {},
      "outputs": [
        {
          "name": "stdout",
          "output_type": "stream",
          "text": [
            "\n"
          ]
        }
      ],
      "source": [
        "query_file = \"../../sparql_queries/unfair_terms/contract_by_use.rq\" \n",
        "run_sparql_query(file_path, query_file, file_format)"
      ]
    },
    {
      "cell_type": "markdown",
      "metadata": {},
      "source": [
        "## Unfair Jurisdiction\n",
        "Does the dispute take place in the courts of a city or country other than the consumer's country of residence?\t"
      ]
    },
    {
      "cell_type": "code",
      "execution_count": 20,
      "metadata": {},
      "outputs": [
        {
          "name": "stdout",
          "output_type": "stream",
          "text": [
            "    dispute                         litigation                       place\n",
            "--  ------------------------------  -------------------------------  ------------------------------------\n",
            " 0  http://example.com/agreement01  http://example.com/litigation01  http://example.com/netherlandsCourts\n"
          ]
        }
      ],
      "source": [
        "query_file = \"../../sparql_queries/unfair_terms/jurisdiction.rq\" \n",
        "run_sparql_query(file_path, query_file, file_format)"
      ]
    },
    {
      "cell_type": "markdown",
      "metadata": {},
      "source": [
        "## Unfair Limitation of Liability\n",
        "Does the supplier exclude or limit his liabilities or any contractual obligations?"
      ]
    },
    {
      "cell_type": "code",
      "execution_count": 21,
      "metadata": {},
      "outputs": [
        {
          "name": "stdout",
          "output_type": "stream",
          "text": [
            "    liability                       description                                                                                                                                                                                                                                                                                                                                                                            limitationOn                  type                                liableParty\n",
            "--  ------------------------------  -------------------------------------------------------------------------------------------------------------------------------------------------------------------------------------------------------------------------------------------------------------------------------------------------------------------------------------------------------------------------------------  ----------------------------  ----------------------------------  ---------------------------\n",
            " 0  http://example.com/liability01  3.2 The Developer will be solely responsible and hold Elsevier harmless for all costs, expenses, losses and liabilities incurred, and activities undertaken by the Developer in connection with the API Service.                                                                                                                                                                       http://example.com/service01  https://w3id.org/tosl/anyLiability  http://example.com/elsevier\n",
            " 1  http://example.com/liability02  Except as expressly stated in this Agreement, each party disclaims all liability to the other party in connection with the parties' performance of this Agreement and in no event will the infringing party be liable to the other party for special, indirect or consequential damages including but not limited to loss of profits, loss of business or unfitness for user purposes  http://example.com/service01  https://w3id.org/tosl/anyLiability  http://example.com/elsevier\n"
          ]
        }
      ],
      "source": [
        "query_file = \"../../sparql_queries/unfair_terms/limitation_of_liability.rq\" \n",
        "run_sparql_query(file_path, query_file, file_format)"
      ]
    },
    {
      "cell_type": "markdown",
      "metadata": {},
      "source": [
        "## Unfair Unilateral Change\n",
        "Are changes made unilaterally without reason or prior notice?\t"
      ]
    },
    {
      "cell_type": "code",
      "execution_count": 22,
      "metadata": {},
      "outputs": [
        {
          "name": "stdout",
          "output_type": "stream",
          "text": [
            "    permission                       description                                                                                                                                                                                                                                                                                                                                                        action                              target\n",
            "--  -------------------------------  -----------------------------------------------------------------------------------------------------------------------------------------------------------------------------------------------------------------------------------------------------------------------------------------------------------------------------------------------------------------  ----------------------------------  ------------------------------\n",
            " 0  http://example.com/permission02  1.2 Elsevier reserves the right, at its sole discretion, to change the terms of this Agreement at any time with reasonable advance notice given to the Developer. Elsevier will make a new copy of the Agreement available on the API Service's web site. Elsevier will also post a notification on the API Service's web site describing the modifications made.  http://www.w3.org/ns/odrl/2/modify  http://example.com/agreement01\n"
          ]
        }
      ],
      "source": [
        "query_file = \"../../sparql_queries/unfair_terms/change.rq\" \n",
        "run_sparql_query(file_path, query_file, file_format)"
      ]
    },
    {
      "cell_type": "markdown",
      "metadata": {},
      "source": [
        "## Unfair Unilateral Termination\n",
        "Is it permitted to terminate the contract unilaterally, without justification or prior notice?"
      ]
    },
    {
      "cell_type": "code",
      "execution_count": 23,
      "metadata": {},
      "outputs": [
        {
          "name": "stdout",
          "output_type": "stream",
          "text": [
            "    permission                       description                                                                                                                                                                                                                                                                                                                                                                                                                                                                  action                           assignee                     target\n",
            "--  -------------------------------  ---------------------------------------------------------------------------------------------------------------------------------------------------------------------------------------------------------------------------------------------------------------------------------------------------------------------------------------------------------------------------------------------------------------------------------------------------------------------------  -------------------------------  ---------------------------  ------------------------------\n",
            " 0  http://example.com/permission04  2.1 After You have accepted this Agreement, Elsevier will issue an API Key to You for use with the API Service. Elsevier retains the right to immediately suspend the Application's access to the API Service if, in Elsevier's sole judgment: the Application's usage of the API Service negatively affects the availability or performance of the API Service, or the Application is in breach of the API's Content Usage Policies on http://dev.elsevier.com/policy.html  https://w3id.org/tosl/terminate  http://example.com/elsevier  http://example.com/service01\n",
            " 1  http://example.com/permission06  2.3 Elsevier reserves the right to deactivate API Keys that have not been used to access the APIs for 90 days.                                                                                                                                                                                                                                                                                                                                                               https://w3id.org/tosl/terminate  http://example.com/elsevier  http://example.com/service01\n",
            " 2  http://example.com/permission13  The term of this Agreement shall commence on the date on which the Developer has accepted this Agreement and shall continue until either party terminates the Agreement in writing or the API Key is deactivated by Elsevier.                                                                                                                                                                                                                                                https://w3id.org/tosl/terminate  http://example.com/elsevier  http://example.com/agreement01\n"
          ]
        }
      ],
      "source": [
        "query_file = \"../../sparql_queries/unfair_terms/termination.rq\" \n",
        "run_sparql_query(file_path, query_file, file_format)"
      ]
    },
    {
      "cell_type": "markdown",
      "metadata": {},
      "source": [
        "## Number of Rules\n"
      ]
    },
    {
      "cell_type": "code",
      "execution_count": 24,
      "metadata": {},
      "outputs": [
        {
          "name": "stdout",
          "output_type": "stream",
          "text": [
            "      totalElements\n",
            "--  ---------------\n",
            " 0               25\n"
          ]
        }
      ],
      "source": [
        "query_file = \"../../sparql_queries/obligations_permissions_prohibition/total_rules.rq\" \n",
        "run_sparql_query(file_path, query_file, file_format)"
      ]
    },
    {
      "cell_type": "markdown",
      "metadata": {},
      "source": [
        "## Permissions and number of permissions"
      ]
    },
    {
      "cell_type": "code",
      "execution_count": 25,
      "metadata": {},
      "outputs": [
        {
          "name": "stdout",
          "output_type": "stream",
          "text": [
            "      totalPermissions\n",
            "--  ------------------\n",
            " 0                  13\n"
          ]
        }
      ],
      "source": [
        "query_file = \"../../sparql_queries/obligations_permissions_prohibition/total_permissions.rq\" \n",
        "run_sparql_query(file_path, query_file, file_format)"
      ]
    },
    {
      "cell_type": "code",
      "execution_count": 26,
      "metadata": {},
      "outputs": [
        {
          "name": "stdout",
          "output_type": "stream",
          "text": [
            "    permission                       actions                                                                                            targets                                                                             assignee\n",
            "--  -------------------------------  -------------------------------------------------------------------------------------------------  ----------------------------------------------------------------------------------  -----------------------------\n",
            " 0  http://example.com/permission01  http://www.w3.org/ns/odrl/2/use                                                                    http://example.com/service01                                                        http://example.com/customer01\n",
            " 1  http://example.com/permission02  http://www.w3.org/ns/odrl/2/modify                                                                 http://example.com/agreement01                                                      http://example.com/elsevier\n",
            " 2  http://example.com/permission03  http://www.w3.org/ns/odrl/2/use                                                                    http://example.com/service01                                                        http://example.com/customer01\n",
            " 3  http://example.com/permission04  https://w3id.org/tosl/terminate                                                                    http://example.com/service01                                                        http://example.com/elsevier\n",
            " 4  http://example.com/permission05  http://www.w3.org/ns/odrl/2/modify, https://w3id.org/tosl/terminate, https://w3id.org/tosl/remove  http://example.com/service01                                                        http://example.com/elsevier\n",
            " 5  http://example.com/permission06  https://w3id.org/tosl/terminate                                                                    http://example.com/service01                                                        http://example.com/elsevier\n",
            " 6  http://example.com/permission07  http://www.w3.org/ns/odrl/2/use                                                                    http://example.com/service01                                                        http://example.com/customer01\n",
            " 7  http://example.com/permission08  http://www.w3.org/ns/odrl/2/use                                                                    http://example.com/service01                                                        http://example.com/customer01\n",
            " 8  http://example.com/permission09  http://www.w3.org/ns/odrl/2/use                                                                    http://example.com/service01                                                        http://example.com/customer01\n",
            " 9  http://example.com/permission10  http://www.w3.org/ns/odrl/2/use                                                                    http://example.com/asset01, http://example.com/asset02, http://example.com/asset03  http://example.com/customer01\n",
            "10  http://example.com/permission11  http://www.w3.org/ns/odrl/2/display                                                                http://example.com/advertising                                                      http://example.com/customer01\n",
            "11  http://example.com/permission12  https://w3id.org/tosl/terminate                                                                    http://example.com/agreement01                                                      http://example.com/customer01\n",
            "12  http://example.com/permission13  https://w3id.org/tosl/terminate                                                                    http://example.com/agreement01                                                      http://example.com/elsevier\n"
          ]
        }
      ],
      "source": [
        "query_file = \"../../sparql_queries/obligations_permissions_prohibition/get_permissions.rq\" \n",
        "run_sparql_query(file_path, query_file, file_format)"
      ]
    },
    {
      "cell_type": "markdown",
      "metadata": {},
      "source": [
        "#### Provider"
      ]
    },
    {
      "cell_type": "code",
      "execution_count": 27,
      "metadata": {},
      "outputs": [
        {
          "name": "stdout",
          "output_type": "stream",
          "text": [
            "    permission                       actions                                                                                            targets                         assignee\n",
            "--  -------------------------------  -------------------------------------------------------------------------------------------------  ------------------------------  ---------------------------\n",
            " 0  http://example.com/permission02  http://www.w3.org/ns/odrl/2/modify                                                                 http://example.com/agreement01  http://example.com/elsevier\n",
            " 1  http://example.com/permission04  https://w3id.org/tosl/terminate                                                                    http://example.com/service01    http://example.com/elsevier\n",
            " 2  http://example.com/permission05  http://www.w3.org/ns/odrl/2/modify, https://w3id.org/tosl/terminate, https://w3id.org/tosl/remove  http://example.com/service01    http://example.com/elsevier\n",
            " 3  http://example.com/permission06  https://w3id.org/tosl/terminate                                                                    http://example.com/service01    http://example.com/elsevier\n",
            " 4  http://example.com/permission13  https://w3id.org/tosl/terminate                                                                    http://example.com/agreement01  http://example.com/elsevier\n"
          ]
        }
      ],
      "source": [
        "query_file = \"../../sparql_queries/obligations_permissions_prohibition/get_provider_permissions.rq\" \n",
        "run_sparql_query(file_path, query_file, file_format)"
      ]
    },
    {
      "cell_type": "markdown",
      "metadata": {},
      "source": [
        "#### Customer"
      ]
    },
    {
      "cell_type": "code",
      "execution_count": 28,
      "metadata": {},
      "outputs": [
        {
          "name": "stdout",
          "output_type": "stream",
          "text": [
            "    permission                       actions                              targets                                                                             assignee\n",
            "--  -------------------------------  -----------------------------------  ----------------------------------------------------------------------------------  -----------------------------\n",
            " 0  http://example.com/permission01  http://www.w3.org/ns/odrl/2/use      http://example.com/service01                                                        http://example.com/customer01\n",
            " 1  http://example.com/permission03  http://www.w3.org/ns/odrl/2/use      http://example.com/service01                                                        http://example.com/customer01\n",
            " 2  http://example.com/permission07  http://www.w3.org/ns/odrl/2/use      http://example.com/service01                                                        http://example.com/customer01\n",
            " 3  http://example.com/permission08  http://www.w3.org/ns/odrl/2/use      http://example.com/service01                                                        http://example.com/customer01\n",
            " 4  http://example.com/permission09  http://www.w3.org/ns/odrl/2/use      http://example.com/service01                                                        http://example.com/customer01\n",
            " 5  http://example.com/permission10  http://www.w3.org/ns/odrl/2/use      http://example.com/asset01, http://example.com/asset02, http://example.com/asset03  http://example.com/customer01\n",
            " 6  http://example.com/permission11  http://www.w3.org/ns/odrl/2/display  http://example.com/advertising                                                      http://example.com/customer01\n",
            " 7  http://example.com/permission12  https://w3id.org/tosl/terminate      http://example.com/agreement01                                                      http://example.com/customer01\n"
          ]
        }
      ],
      "source": [
        "query_file = \"../../sparql_queries/obligations_permissions_prohibition/get_customer_permissions.rq\" \n",
        "run_sparql_query(file_path, query_file, file_format)"
      ]
    },
    {
      "cell_type": "markdown",
      "metadata": {},
      "source": [
        "## Duties and number of duties"
      ]
    },
    {
      "cell_type": "code",
      "execution_count": 29,
      "metadata": {},
      "outputs": [
        {
          "name": "stdout",
          "output_type": "stream",
          "text": [
            "      totalDuties\n",
            "--  -------------\n",
            " 0             10\n"
          ]
        }
      ],
      "source": [
        "query_file = \"../../sparql_queries/obligations_permissions_prohibition/total_duties.rq\" \n",
        "run_sparql_query(file_path, query_file, file_format)"
      ]
    },
    {
      "cell_type": "code",
      "execution_count": 30,
      "metadata": {},
      "outputs": [
        {
          "name": "stdout",
          "output_type": "stream",
          "text": [
            "    duty                                  actions                               targets                                                                             assignee\n",
            "--  ------------------------------------  ------------------------------------  ----------------------------------------------------------------------------------  -----------------------------\n",
            " 0  nd7d92a0e45084655afae65c7531550d4b1   https://w3id.org/tosl/consent         http://example.com/agreement01                                                      http://example.com/customer01\n",
            " 1  nd7d92a0e45084655afae65c7531550d4b3   http://www.w3.org/ns/odrl/2/inform    http://example.com/agreement01                                                      http://example.com/elsevier\n",
            " 2  nd7d92a0e45084655afae65c7531550d4b5   https://w3id.org/tosl/publish         http://example.com/apiNewAgreement                                                  http://example.com/elsevier\n",
            " 3  nd7d92a0e45084655afae65c7531550d4b7   https://w3id.org/tosl/publish         http://example.com/modificationsInAgreement                                         http://example.com/elsevier\n",
            " 4  nd7d92a0e45084655afae65c7531550d4b11  http://www.w3.org/ns/odrl/2/inform    http://example.com/agreement01                                                      http://example.com/customer01\n",
            " 5  nd7d92a0e45084655afae65c7531550d4b19  http://www.w3.org/ns/odrl/2/inform    http://example.com/service01                                                        http://example.com/elsevier\n",
            " 6  nd7d92a0e45084655afae65c7531550d4b27  http://www.w3.org/ns/odrl/2/grantUse  http://example.com/asset01, http://example.com/asset02, http://example.com/asset03  http://example.com/elsevier\n",
            " 7  nd7d92a0e45084655afae65c7531550d4b32  http://www.w3.org/ns/odrl/2/grantUse  http://example.com/advertising                                                      http://example.com/elsevier\n",
            " 8  nd7d92a0e45084655afae65c7531550d4b35  http://www.w3.org/ns/odrl/2/inform    http://example.com/agreement01                                                      http://example.com/customer01\n",
            " 9  nd7d92a0e45084655afae65c7531550d4b37  http://www.w3.org/ns/odrl/2/inform    http://example.com/agreement01                                                      http://example.com/customer01\n"
          ]
        }
      ],
      "source": [
        "query_file = \"../../sparql_queries/obligations_permissions_prohibition/get_duties.rq\" \n",
        "run_sparql_query(file_path, query_file, file_format)"
      ]
    },
    {
      "cell_type": "markdown",
      "metadata": {},
      "source": [
        "#### Provider"
      ]
    },
    {
      "cell_type": "code",
      "execution_count": 31,
      "metadata": {},
      "outputs": [
        {
          "name": "stdout",
          "output_type": "stream",
          "text": [
            "    duty                                  actions                               targets                                                                             assignee\n",
            "--  ------------------------------------  ------------------------------------  ----------------------------------------------------------------------------------  ---------------------------\n",
            " 0  n4da5b3ccb6d44346a1e1cfb952b3e72eb3   http://www.w3.org/ns/odrl/2/inform    http://example.com/agreement01                                                      http://example.com/elsevier\n",
            " 1  n4da5b3ccb6d44346a1e1cfb952b3e72eb5   https://w3id.org/tosl/publish         http://example.com/apiNewAgreement                                                  http://example.com/elsevier\n",
            " 2  n4da5b3ccb6d44346a1e1cfb952b3e72eb7   https://w3id.org/tosl/publish         http://example.com/modificationsInAgreement                                         http://example.com/elsevier\n",
            " 3  n4da5b3ccb6d44346a1e1cfb952b3e72eb19  http://www.w3.org/ns/odrl/2/inform    http://example.com/service01                                                        http://example.com/elsevier\n",
            " 4  n4da5b3ccb6d44346a1e1cfb952b3e72eb27  http://www.w3.org/ns/odrl/2/grantUse  http://example.com/asset01, http://example.com/asset02, http://example.com/asset03  http://example.com/elsevier\n",
            " 5  n4da5b3ccb6d44346a1e1cfb952b3e72eb32  http://www.w3.org/ns/odrl/2/grantUse  http://example.com/advertising                                                      http://example.com/elsevier\n"
          ]
        }
      ],
      "source": [
        "query_file = \"../../sparql_queries/obligations_permissions_prohibition/get_provider_duties.rq\" \n",
        "run_sparql_query(file_path, query_file, file_format)"
      ]
    },
    {
      "cell_type": "markdown",
      "metadata": {},
      "source": [
        "#### Customer"
      ]
    },
    {
      "cell_type": "code",
      "execution_count": 32,
      "metadata": {},
      "outputs": [
        {
          "name": "stdout",
          "output_type": "stream",
          "text": [
            "    duty                                  actions                             targets                         assignee\n",
            "--  ------------------------------------  ----------------------------------  ------------------------------  -----------------------------\n",
            " 0  nc88178393e434fc183e2a7979d10fa4cb1   https://w3id.org/tosl/consent       http://example.com/agreement01  http://example.com/customer01\n",
            " 1  nc88178393e434fc183e2a7979d10fa4cb11  http://www.w3.org/ns/odrl/2/inform  http://example.com/agreement01  http://example.com/customer01\n",
            " 2  nc88178393e434fc183e2a7979d10fa4cb35  http://www.w3.org/ns/odrl/2/inform  http://example.com/agreement01  http://example.com/customer01\n",
            " 3  nc88178393e434fc183e2a7979d10fa4cb37  http://www.w3.org/ns/odrl/2/inform  http://example.com/agreement01  http://example.com/customer01\n"
          ]
        }
      ],
      "source": [
        "query_file = \"../../sparql_queries/obligations_permissions_prohibition/get_customer_duties.rq\" \n",
        "run_sparql_query(file_path, query_file, file_format)"
      ]
    },
    {
      "cell_type": "markdown",
      "metadata": {},
      "source": [
        "## Prohibitions and number of prohibitions"
      ]
    },
    {
      "cell_type": "code",
      "execution_count": 33,
      "metadata": {},
      "outputs": [
        {
          "name": "stdout",
          "output_type": "stream",
          "text": [
            "      totalProhibitions\n",
            "--  -------------------\n",
            " 0                    2\n"
          ]
        }
      ],
      "source": [
        "query_file = \"../../sparql_queries/obligations_permissions_prohibition/total_prohibitions.rq\" \n",
        "run_sparql_query(file_path, query_file, file_format)"
      ]
    },
    {
      "cell_type": "code",
      "execution_count": 34,
      "metadata": {},
      "outputs": [
        {
          "name": "stdout",
          "output_type": "stream",
          "text": [
            "\n"
          ]
        }
      ],
      "source": [
        "query_file = \"../../sparql_queries/obligations_permissions_prohibition/get_prohibitions.rq\" \n",
        "run_sparql_query(file_path, query_file, file_format)"
      ]
    },
    {
      "cell_type": "markdown",
      "metadata": {},
      "source": [
        "#### Provider"
      ]
    },
    {
      "cell_type": "code",
      "execution_count": 35,
      "metadata": {},
      "outputs": [
        {
          "name": "stdout",
          "output_type": "stream",
          "text": [
            "\n"
          ]
        }
      ],
      "source": [
        "query_file = \"../../sparql_queries/obligations_permissions_prohibition/get_provider_prohibitions.rq\" \n",
        "run_sparql_query(file_path, query_file, file_format)"
      ]
    },
    {
      "cell_type": "markdown",
      "metadata": {},
      "source": [
        "#### Customer"
      ]
    },
    {
      "cell_type": "code",
      "execution_count": 36,
      "metadata": {},
      "outputs": [
        {
          "name": "stdout",
          "output_type": "stream",
          "text": [
            "\n"
          ]
        }
      ],
      "source": [
        "query_file = \"../../sparql_queries/obligations_permissions_prohibition/get_customer_prohibitions.rq\" \n",
        "run_sparql_query(file_path, query_file, file_format)"
      ]
    }
  ],
  "metadata": {
    "colab": {
      "provenance": []
    },
    "kernelspec": {
      "display_name": "base",
      "language": "python",
      "name": "python3"
    },
    "language_info": {
      "codemirror_mode": {
        "name": "ipython",
        "version": 3
      },
      "file_extension": ".py",
      "mimetype": "text/x-python",
      "name": "python",
      "nbconvert_exporter": "python",
      "pygments_lexer": "ipython3",
      "version": "3.11.7"
    }
  },
  "nbformat": 4,
  "nbformat_minor": 0
}

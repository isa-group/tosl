{
  "cells": [
    {
      "cell_type": "code",
      "execution_count": 2,
      "metadata": {
        "id": "FEc7bXNT3LYC"
      },
      "outputs": [
        {
          "name": "stdout",
          "output_type": "stream",
          "text": [
            "Requirement already satisfied: rdflib==7.0.0 in /opt/homebrew/anaconda3/lib/python3.11/site-packages (from -r ../../requirements.txt (line 1)) (7.0.0)\n",
            "Requirement already satisfied: rdflib-neo4j==1.1 in /opt/homebrew/anaconda3/lib/python3.11/site-packages (from -r ../../requirements.txt (line 2)) (1.1)\n",
            "Requirement already satisfied: neo4j==5.11.0 in /opt/homebrew/anaconda3/lib/python3.11/site-packages (from -r ../../requirements.txt (line 3)) (5.11.0)\n",
            "Requirement already satisfied: networkx==3.2 in /opt/homebrew/anaconda3/lib/python3.11/site-packages (from -r ../../requirements.txt (line 4)) (3.2)\n",
            "Requirement already satisfied: pyvis==0.3.2 in /opt/homebrew/anaconda3/lib/python3.11/site-packages (from -r ../../requirements.txt (line 5)) (0.3.2)\n",
            "Requirement already satisfied: matplotlib==3.8.0 in /opt/homebrew/anaconda3/lib/python3.11/site-packages (from -r ../../requirements.txt (line 6)) (3.8.0)\n",
            "Requirement already satisfied: pandas==2.2.2 in /opt/homebrew/anaconda3/lib/python3.11/site-packages (from -r ../../requirements.txt (line 7)) (2.2.2)\n",
            "Requirement already satisfied: tabulate==0.9.0 in /opt/homebrew/anaconda3/lib/python3.11/site-packages (from -r ../../requirements.txt (line 8)) (0.9.0)\n",
            "Collecting pyshacl>=0.20.0 (from -r ../../requirements.txt (line 9))\n",
            "  Downloading pyshacl-0.30.1-py3-none-any.whl.metadata (35 kB)\n",
            "Requirement already satisfied: pytest in /opt/homebrew/anaconda3/lib/python3.11/site-packages (from -r ../../requirements.txt (line 10)) (7.4.0)\n",
            "Requirement already satisfied: isodate<0.7.0,>=0.6.0 in /opt/homebrew/anaconda3/lib/python3.11/site-packages (from rdflib==7.0.0->-r ../../requirements.txt (line 1)) (0.6.1)\n",
            "Requirement already satisfied: pyparsing<4,>=2.1.0 in /opt/homebrew/anaconda3/lib/python3.11/site-packages (from rdflib==7.0.0->-r ../../requirements.txt (line 1)) (3.0.9)\n",
            "Requirement already satisfied: pytz in /opt/homebrew/anaconda3/lib/python3.11/site-packages (from neo4j==5.11.0->-r ../../requirements.txt (line 3)) (2023.3.post1)\n",
            "Requirement already satisfied: ipython>=5.3.0 in /opt/homebrew/anaconda3/lib/python3.11/site-packages (from pyvis==0.3.2->-r ../../requirements.txt (line 5)) (8.20.0)\n",
            "Requirement already satisfied: jinja2>=2.9.6 in /opt/homebrew/anaconda3/lib/python3.11/site-packages (from pyvis==0.3.2->-r ../../requirements.txt (line 5)) (3.1.3)\n",
            "Requirement already satisfied: jsonpickle>=1.4.1 in /opt/homebrew/anaconda3/lib/python3.11/site-packages (from pyvis==0.3.2->-r ../../requirements.txt (line 5)) (4.0.2)\n",
            "Requirement already satisfied: contourpy>=1.0.1 in /opt/homebrew/anaconda3/lib/python3.11/site-packages (from matplotlib==3.8.0->-r ../../requirements.txt (line 6)) (1.2.0)\n",
            "Requirement already satisfied: cycler>=0.10 in /opt/homebrew/anaconda3/lib/python3.11/site-packages (from matplotlib==3.8.0->-r ../../requirements.txt (line 6)) (0.11.0)\n",
            "Requirement already satisfied: fonttools>=4.22.0 in /opt/homebrew/anaconda3/lib/python3.11/site-packages (from matplotlib==3.8.0->-r ../../requirements.txt (line 6)) (4.25.0)\n",
            "Requirement already satisfied: kiwisolver>=1.0.1 in /opt/homebrew/anaconda3/lib/python3.11/site-packages (from matplotlib==3.8.0->-r ../../requirements.txt (line 6)) (1.4.4)\n",
            "Requirement already satisfied: numpy<2,>=1.21 in /opt/homebrew/anaconda3/lib/python3.11/site-packages (from matplotlib==3.8.0->-r ../../requirements.txt (line 6)) (1.26.4)\n",
            "Requirement already satisfied: packaging>=20.0 in /opt/homebrew/anaconda3/lib/python3.11/site-packages (from matplotlib==3.8.0->-r ../../requirements.txt (line 6)) (24.2)\n",
            "Requirement already satisfied: pillow>=6.2.0 in /opt/homebrew/anaconda3/lib/python3.11/site-packages (from matplotlib==3.8.0->-r ../../requirements.txt (line 6)) (10.2.0)\n",
            "Requirement already satisfied: python-dateutil>=2.7 in /opt/homebrew/anaconda3/lib/python3.11/site-packages (from matplotlib==3.8.0->-r ../../requirements.txt (line 6)) (2.8.2)\n",
            "Requirement already satisfied: tzdata>=2022.7 in /opt/homebrew/anaconda3/lib/python3.11/site-packages (from pandas==2.2.2->-r ../../requirements.txt (line 7)) (2023.3)\n",
            "Requirement already satisfied: importlib-metadata>6 in /opt/homebrew/anaconda3/lib/python3.11/site-packages (from pyshacl>=0.20.0->-r ../../requirements.txt (line 9)) (7.0.1)\n",
            "Collecting owlrl<8,>=7.1.2 (from pyshacl>=0.20.0->-r ../../requirements.txt (line 9))\n",
            "  Downloading owlrl-7.1.3-py3-none-any.whl.metadata (3.6 kB)\n",
            "Collecting prettytable>=3.5.0 (from pyshacl>=0.20.0->-r ../../requirements.txt (line 9))\n",
            "  Downloading prettytable-3.16.0-py3-none-any.whl.metadata (33 kB)\n",
            "INFO: pip is looking at multiple versions of pyshacl to determine which version is compatible with other requirements. This could take a while.\n",
            "Collecting pyshacl>=0.20.0 (from -r ../../requirements.txt (line 9))\n",
            "  Downloading pyshacl-0.30.0-py3-none-any.whl.metadata (35 kB)\n",
            "  Downloading pyshacl-0.29.1-py3-none-any.whl.metadata (21 kB)\n",
            "  Downloading pyshacl-0.29.0-py3-none-any.whl.metadata (21 kB)\n",
            "  Downloading pyshacl-0.28.1-py3-none-any.whl.metadata (22 kB)\n",
            "Collecting owlrl<7,>=6.0.2 (from pyshacl>=0.20.0->-r ../../requirements.txt (line 9))\n",
            "  Downloading owlrl-6.0.2-py3-none-any.whl.metadata (3.4 kB)\n",
            "Requirement already satisfied: iniconfig in /opt/homebrew/anaconda3/lib/python3.11/site-packages (from pytest->-r ../../requirements.txt (line 10)) (1.1.1)\n",
            "Requirement already satisfied: pluggy<2.0,>=0.12 in /opt/homebrew/anaconda3/lib/python3.11/site-packages (from pytest->-r ../../requirements.txt (line 10)) (1.0.0)\n",
            "Requirement already satisfied: zipp>=0.5 in /opt/homebrew/anaconda3/lib/python3.11/site-packages (from importlib-metadata>6->pyshacl>=0.20.0->-r ../../requirements.txt (line 9)) (3.17.0)\n",
            "Requirement already satisfied: decorator in /opt/homebrew/anaconda3/lib/python3.11/site-packages (from ipython>=5.3.0->pyvis==0.3.2->-r ../../requirements.txt (line 5)) (5.1.1)\n",
            "Requirement already satisfied: jedi>=0.16 in /opt/homebrew/anaconda3/lib/python3.11/site-packages (from ipython>=5.3.0->pyvis==0.3.2->-r ../../requirements.txt (line 5)) (0.18.1)\n",
            "Requirement already satisfied: matplotlib-inline in /opt/homebrew/anaconda3/lib/python3.11/site-packages (from ipython>=5.3.0->pyvis==0.3.2->-r ../../requirements.txt (line 5)) (0.1.6)\n",
            "Requirement already satisfied: prompt-toolkit<3.1.0,>=3.0.41 in /opt/homebrew/anaconda3/lib/python3.11/site-packages (from ipython>=5.3.0->pyvis==0.3.2->-r ../../requirements.txt (line 5)) (3.0.43)\n",
            "Requirement already satisfied: pygments>=2.4.0 in /opt/homebrew/anaconda3/lib/python3.11/site-packages (from ipython>=5.3.0->pyvis==0.3.2->-r ../../requirements.txt (line 5)) (2.15.1)\n",
            "Requirement already satisfied: stack-data in /opt/homebrew/anaconda3/lib/python3.11/site-packages (from ipython>=5.3.0->pyvis==0.3.2->-r ../../requirements.txt (line 5)) (0.2.0)\n",
            "Requirement already satisfied: traitlets>=5 in /opt/homebrew/anaconda3/lib/python3.11/site-packages (from ipython>=5.3.0->pyvis==0.3.2->-r ../../requirements.txt (line 5)) (5.7.1)\n",
            "Requirement already satisfied: pexpect>4.3 in /opt/homebrew/anaconda3/lib/python3.11/site-packages (from ipython>=5.3.0->pyvis==0.3.2->-r ../../requirements.txt (line 5)) (4.8.0)\n",
            "Requirement already satisfied: six in /opt/homebrew/anaconda3/lib/python3.11/site-packages (from isodate<0.7.0,>=0.6.0->rdflib==7.0.0->-r ../../requirements.txt (line 1)) (1.16.0)\n",
            "Requirement already satisfied: MarkupSafe>=2.0 in /opt/homebrew/anaconda3/lib/python3.11/site-packages (from jinja2>=2.9.6->pyvis==0.3.2->-r ../../requirements.txt (line 5)) (2.1.3)\n",
            "Requirement already satisfied: wcwidth in /opt/homebrew/anaconda3/lib/python3.11/site-packages (from prettytable>=3.5.0->pyshacl>=0.20.0->-r ../../requirements.txt (line 9)) (0.2.5)\n",
            "Collecting html5lib<2.0,>=1.0 (from rdflib[html]<8.0,>=6.3.2; python_full_version >= \"3.8.1\"->pyshacl>=0.20.0->-r ../../requirements.txt (line 9))\n",
            "  Downloading html5lib-1.1-py2.py3-none-any.whl.metadata (16 kB)\n",
            "Requirement already satisfied: webencodings in /opt/homebrew/anaconda3/lib/python3.11/site-packages (from html5lib<2.0,>=1.0->rdflib[html]<8.0,>=6.3.2; python_full_version >= \"3.8.1\"->pyshacl>=0.20.0->-r ../../requirements.txt (line 9)) (0.5.1)\n",
            "Requirement already satisfied: parso<0.9.0,>=0.8.0 in /opt/homebrew/anaconda3/lib/python3.11/site-packages (from jedi>=0.16->ipython>=5.3.0->pyvis==0.3.2->-r ../../requirements.txt (line 5)) (0.8.3)\n",
            "Requirement already satisfied: ptyprocess>=0.5 in /opt/homebrew/anaconda3/lib/python3.11/site-packages (from pexpect>4.3->ipython>=5.3.0->pyvis==0.3.2->-r ../../requirements.txt (line 5)) (0.7.0)\n",
            "Requirement already satisfied: executing in /opt/homebrew/anaconda3/lib/python3.11/site-packages (from stack-data->ipython>=5.3.0->pyvis==0.3.2->-r ../../requirements.txt (line 5)) (0.8.3)\n",
            "Requirement already satisfied: asttokens in /opt/homebrew/anaconda3/lib/python3.11/site-packages (from stack-data->ipython>=5.3.0->pyvis==0.3.2->-r ../../requirements.txt (line 5)) (2.0.5)\n",
            "Requirement already satisfied: pure-eval in /opt/homebrew/anaconda3/lib/python3.11/site-packages (from stack-data->ipython>=5.3.0->pyvis==0.3.2->-r ../../requirements.txt (line 5)) (0.2.2)\n",
            "Downloading pyshacl-0.28.1-py3-none-any.whl (1.3 MB)\n",
            "\u001b[2K   \u001b[90m━━━━━━━━━━━━━━━━━━━━━━━━━━━━━━━━━━━━━━━━\u001b[0m \u001b[32m1.3/1.3 MB\u001b[0m \u001b[31m6.7 MB/s\u001b[0m eta \u001b[36m0:00:00\u001b[0m00:01\u001b[0m00:01\u001b[0m\n",
            "\u001b[?25hDownloading owlrl-6.0.2-py3-none-any.whl (54 kB)\n",
            "\u001b[2K   \u001b[90m━━━━━━━━━━━━━━━━━━━━━━━━━━━━━━━━━━━━━━━━\u001b[0m \u001b[32m54.5/54.5 kB\u001b[0m \u001b[31m5.7 MB/s\u001b[0m eta \u001b[36m0:00:00\u001b[0m\n",
            "\u001b[?25hDownloading prettytable-3.16.0-py3-none-any.whl (33 kB)\n",
            "Downloading html5lib-1.1-py2.py3-none-any.whl (112 kB)\n",
            "\u001b[2K   \u001b[90m━━━━━━━━━━━━━━━━━━━━━━━━━━━━━━━━━━━━━━━━\u001b[0m \u001b[32m112.2/112.2 kB\u001b[0m \u001b[31m4.0 MB/s\u001b[0m eta \u001b[36m0:00:00\u001b[0m\n",
            "\u001b[?25hInstalling collected packages: prettytable, html5lib, owlrl, pyshacl\n",
            "Successfully installed html5lib-1.1 owlrl-6.0.2 prettytable-3.16.0 pyshacl-0.28.1\n"
          ]
        }
      ],
      "source": [
        "! pip install -r ../../requirements.txt"
      ]
    },
    {
      "cell_type": "markdown",
      "metadata": {},
      "source": [
        "# Elsevier API Service Agreement\n",
        "This notebook contains the execution of 8 queries to identify potentially unfair terms in the TOSL representation of the agreement.\n",
        "\n",
        "The following code allows the queries to be executed automatically."
      ]
    },
    {
      "cell_type": "code",
      "execution_count": 5,
      "metadata": {
        "colab": {
          "base_uri": "https://localhost:8080/"
        },
        "id": "UrfTESEy6Ytk",
        "outputId": "cde1275b-50e8-4487-a7d3-039b475adc55"
      },
      "outputs": [],
      "source": [
        "import warnings\n",
        "warnings.filterwarnings(\"ignore\")\n",
        "\n",
        "import pandas as pd\n",
        "from tabulate import tabulate\n",
        "from rdflib import Graph\n",
        "\n",
        "def tabulate_result(results):\n",
        "    rows = [row.asdict() for row in results]\n",
        "    df = pd.DataFrame(rows)\n",
        "    print(tabulate(df, headers=df.columns))\n",
        "\n",
        "def run_sparql_query(file_path, query_file, file_format=\"ttl\"):\n",
        "    g = Graph()\n",
        "    g.parse(file_path, format=file_format)\n",
        "\n",
        "    with open(query_file, \"r\") as f:\n",
        "        query = f.read()\n",
        "\n",
        "    results = g.query(query)\n",
        "    tabulate_result(results)\n",
        "\n",
        "file_path = \"../examples/elsevier/API_Service_Agreement_2017.ttl\"\n",
        "file_format = \"ttl\" "
      ]
    },
    {
      "cell_type": "markdown",
      "metadata": {},
      "source": [
        "## Unfair Arbitration Terms\n",
        "Does the agreement include any arbitration clauses? If so, are they related to litigation?"
      ]
    },
    {
      "cell_type": "code",
      "execution_count": 6,
      "metadata": {},
      "outputs": [
        {
          "name": "stdout",
          "output_type": "stream",
          "text": [
            "\n"
          ]
        }
      ],
      "source": [
        "query_file = \"../../sparql_queries/unfair_terms/arbitration.rq\" \n",
        "run_sparql_query(file_path, query_file, file_format)"
      ]
    },
    {
      "cell_type": "markdown",
      "metadata": {},
      "source": [
        "## Unfair Choice by Law\n",
        "Are there any dispute resolution clauses that apply a law other than the consumer’s place of residence?"
      ]
    },
    {
      "cell_type": "code",
      "execution_count": 7,
      "metadata": {},
      "outputs": [
        {
          "name": "stdout",
          "output_type": "stream",
          "text": [
            "    dispute                         litigation                       law\n",
            "--  ------------------------------  -------------------------------  ---------------------------------\n",
            " 0  http://example.com/agreement01  http://example.com/litigation01  http://example.com/netherlandsLaw\n"
          ]
        }
      ],
      "source": [
        "query_file = \"../../sparql_queries/unfair_terms/choice_law.rq\" \n",
        "run_sparql_query(file_path, query_file, file_format)"
      ]
    },
    {
      "cell_type": "markdown",
      "metadata": {},
      "source": [
        "## Unfair Content Removal \n",
        "Is removal allowed without reason, notice, or possibility of recovery?"
      ]
    },
    {
      "cell_type": "code",
      "execution_count": 8,
      "metadata": {},
      "outputs": [
        {
          "name": "stdout",
          "output_type": "stream",
          "text": [
            "\n"
          ]
        }
      ],
      "source": [
        "query_file = \"../../sparql_queries/unfair_terms/content_removal.rq\" \n",
        "run_sparql_query(file_path, query_file, file_format)"
      ]
    },
    {
      "cell_type": "markdown",
      "metadata": {},
      "source": [
        "## Unfair Contract by Using\n",
        "Is the consumer considered to have accepted the contract by mere use or implied consent?\t"
      ]
    },
    {
      "cell_type": "code",
      "execution_count": 9,
      "metadata": {},
      "outputs": [
        {
          "name": "stdout",
          "output_type": "stream",
          "text": [
            "\n"
          ]
        }
      ],
      "source": [
        "query_file = \"../../sparql_queries/unfair_terms/contract_by_use.rq\" \n",
        "run_sparql_query(file_path, query_file, file_format)"
      ]
    },
    {
      "cell_type": "markdown",
      "metadata": {},
      "source": [
        "## Unfair Jurisdiction\n",
        "Does the dispute take place in the courts of a city or country other than the consumer's country of residence?\t"
      ]
    },
    {
      "cell_type": "code",
      "execution_count": 10,
      "metadata": {},
      "outputs": [
        {
          "name": "stdout",
          "output_type": "stream",
          "text": [
            "    dispute                         litigation                       place\n",
            "--  ------------------------------  -------------------------------  ------------------------------------\n",
            " 0  http://example.com/agreement01  http://example.com/litigation01  http://example.com/netherlandsCourts\n"
          ]
        }
      ],
      "source": [
        "query_file = \"../../sparql_queries/unfair_terms/jurisdiction.rq\" \n",
        "run_sparql_query(file_path, query_file, file_format)"
      ]
    },
    {
      "cell_type": "markdown",
      "metadata": {},
      "source": [
        "## Unfair Limitation of Liability\n",
        "Does the supplier exclude or limit his liabilities or any contractual obligations?"
      ]
    },
    {
      "cell_type": "code",
      "execution_count": 11,
      "metadata": {},
      "outputs": [
        {
          "name": "stdout",
          "output_type": "stream",
          "text": [
            "    liability                       description                                                                                                                                                                                                                                                                                                                                                                            limitationOn                  type                                liableParty\n",
            "--  ------------------------------  -------------------------------------------------------------------------------------------------------------------------------------------------------------------------------------------------------------------------------------------------------------------------------------------------------------------------------------------------------------------------------------  ----------------------------  ----------------------------------  ---------------------------\n",
            " 0  http://example.com/liability01  3.2 The Developer will be solely responsible and hold Elsevier harmless for all costs, expenses, losses and liabilities incurred, and activities undertaken by the Developer in connection with the API Service.                                                                                                                                                                       http://example.com/service01  https://w3id.org/tosl/anyLiability  http://example.com/elsevier\n",
            " 1  http://example.com/liability02  Except as expressly stated in this Agreement, each party disclaims all liability to the other party in connection with the parties' performance of this Agreement and in no event will the infringing party be liable to the other party for special, indirect or consequential damages including but not limited to loss of profits, loss of business or unfitness for user purposes  http://example.com/service01  https://w3id.org/tosl/anyLiability  http://example.com/elsevier\n"
          ]
        }
      ],
      "source": [
        "query_file = \"../../sparql_queries/unfair_terms/limitation_liability.rq\" \n",
        "run_sparql_query(file_path, query_file, file_format)"
      ]
    },
    {
      "cell_type": "markdown",
      "metadata": {},
      "source": [
        "## Unfair Unilateral Change\n",
        "Are changes made unilaterally without reason or prior notice?\t"
      ]
    },
    {
      "cell_type": "code",
      "execution_count": 12,
      "metadata": {},
      "outputs": [
        {
          "name": "stdout",
          "output_type": "stream",
          "text": [
            "    permission                       description                                                                                                                                                                                                                                                                                                                                                        action                              target\n",
            "--  -------------------------------  -----------------------------------------------------------------------------------------------------------------------------------------------------------------------------------------------------------------------------------------------------------------------------------------------------------------------------------------------------------------  ----------------------------------  ----------------------------\n",
            " 0  http://example.com/permission02  1.2 Elsevier reserves the right, at its sole discretion, to change the terms of this Agreement at any time with reasonable advance notice given to the Developer. Elsevier will make a new copy of the Agreement available on the API Service's web site. Elsevier will also post a notification on the API Service's web site describing the modifications made.  http://www.w3.org/ns/odrl/2/modify  http://example.com/service01\n"
          ]
        }
      ],
      "source": [
        "query_file = \"../../sparql_queries/unfair_terms/change.rq\" \n",
        "run_sparql_query(file_path, query_file, file_format)"
      ]
    },
    {
      "cell_type": "markdown",
      "metadata": {},
      "source": [
        "## Unfair Unilateral Termination\n",
        "Is it permitted to terminate the contract unilaterally, without justification or prior notice?"
      ]
    },
    {
      "cell_type": "code",
      "execution_count": 13,
      "metadata": {},
      "outputs": [
        {
          "name": "stdout",
          "output_type": "stream",
          "text": [
            "    permission                       description                                                                                                                                                                                                                                                                                                                                                                                                                                                                  action                           assignee                     target\n",
            "--  -------------------------------  ---------------------------------------------------------------------------------------------------------------------------------------------------------------------------------------------------------------------------------------------------------------------------------------------------------------------------------------------------------------------------------------------------------------------------------------------------------------------------  -------------------------------  ---------------------------  ------------------------------\n",
            " 0  http://example.com/permission04  2.1 After You have accepted this Agreement, Elsevier will issue an API Key to You for use with the API Service. Elsevier retains the right to immediately suspend the Application's access to the API Service if, in Elsevier's sole judgment: the Application's usage of the API Service negatively affects the availability or performance of the API Service, or the Application is in breach of the API's Content Usage Policies on http://dev.elsevier.com/policy.html  https://w3id.org/tosl/terminate  http://example.com/elsevier  http://example.com/service01\n",
            " 1  http://example.com/permission06  2.3 Elsevier reserves the right to deactivate API Keys that have not been used to access the APIs for 90 days.                                                                                                                                                                                                                                                                                                                                                               https://w3id.org/tosl/terminate  http://example.com/elsevier  http://example.com/service01\n",
            " 2  http://example.com/permission13  The term of this Agreement shall commence on the date on which the Developer has accepted this Agreement and shall continue until either party terminates the Agreement in writing or the API Key is deactivated by Elsevier.                                                                                                                                                                                                                                                https://w3id.org/tosl/terminate  http://example.com/elsevier  http://example.com/agreement01\n"
          ]
        }
      ],
      "source": [
        "query_file = \"../../sparql_queries/unfair_terms/termination.rq\" \n",
        "run_sparql_query(file_path, query_file, file_format)"
      ]
    },
    {
      "cell_type": "markdown",
      "metadata": {},
      "source": [
        "## Number of Rules\n"
      ]
    },
    {
      "cell_type": "code",
      "execution_count": 16,
      "metadata": {},
      "outputs": [
        {
          "name": "stdout",
          "output_type": "stream",
          "text": [
            "      totalElements\n",
            "--  ---------------\n",
            " 0               25\n"
          ]
        }
      ],
      "source": [
        "query_file = \"../../sparql_queries/obligations_permissions_prohibition/total_rules.rq\" \n",
        "run_sparql_query(file_path, query_file, file_format)"
      ]
    },
    {
      "cell_type": "markdown",
      "metadata": {},
      "source": [
        "## Permissions and number of permissions"
      ]
    },
    {
      "cell_type": "code",
      "execution_count": 18,
      "metadata": {},
      "outputs": [
        {
          "name": "stdout",
          "output_type": "stream",
          "text": [
            "      totalPermissions\n",
            "--  ------------------\n",
            " 0                  13\n"
          ]
        }
      ],
      "source": [
        "query_file = \"../../sparql_queries/obligations_permissions_prohibition/total_permissions.rq\" \n",
        "run_sparql_query(file_path, query_file, file_format)"
      ]
    },
    {
      "cell_type": "code",
      "execution_count": 19,
      "metadata": {},
      "outputs": [
        {
          "name": "stdout",
          "output_type": "stream",
          "text": [
            "    permission                       actions                                                                                            target                          assignee\n",
            "--  -------------------------------  -------------------------------------------------------------------------------------------------  ------------------------------  -----------------------------\n",
            " 0  http://example.com/permission01  http://www.w3.org/ns/odrl/2/use                                                                    http://example.com/service01    http://example.com/customer01\n",
            " 1  http://example.com/permission02  http://www.w3.org/ns/odrl/2/modify                                                                 http://example.com/service01    http://example.com/elsevier\n",
            " 2  http://example.com/permission03  n56122de4951d40d1a521cc95474a34e5b9                                                                http://example.com/service01    http://example.com/customer01\n",
            " 3  http://example.com/permission04  https://w3id.org/tosl/terminate                                                                    http://example.com/service01    http://example.com/elsevier\n",
            " 4  http://example.com/permission05  http://www.w3.org/ns/odrl/2/modify, https://w3id.org/tosl/terminate, https://w3id.org/tosl/remove  http://example.com/service01    http://example.com/elsevier\n",
            " 5  http://example.com/permission06  https://w3id.org/tosl/terminate                                                                    http://example.com/service01    http://example.com/elsevier\n",
            " 6  http://example.com/permission07  n56122de4951d40d1a521cc95474a34e5b22                                                               http://example.com/service01    http://example.com/customer01\n",
            " 7  http://example.com/permission08  http://www.w3.org/ns/odrl/2/use                                                                    http://example.com/service01    http://example.com/customer01\n",
            " 8  http://example.com/permission09  n56122de4951d40d1a521cc95474a34e5b25                                                               http://example.com/service01    http://example.com/customer01\n",
            " 9  http://example.com/permission10  http://www.w3.org/ns/odrl/2/use                                                                    http://example.com/asset01      http://example.com/customer01\n",
            "10  http://example.com/permission10  http://www.w3.org/ns/odrl/2/use                                                                    http://example.com/asset02      http://example.com/customer01\n",
            "11  http://example.com/permission10  http://www.w3.org/ns/odrl/2/use                                                                    http://example.com/asset03      http://example.com/customer01\n",
            "12  http://example.com/permission11  n56122de4951d40d1a521cc95474a34e5b30                                                               http://example.com/advertising  http://example.com/customer01\n",
            "13  http://example.com/permission12  https://w3id.org/tosl/terminate                                                                    http://example.com/agreement01  http://example.com/customer01\n",
            "14  http://example.com/permission13  https://w3id.org/tosl/terminate                                                                    http://example.com/agreement01  http://example.com/elsevier\n"
          ]
        }
      ],
      "source": [
        "query_file = \"../../sparql_queries/obligations_permissions_prohibition/get_permissions.rq\" \n",
        "run_sparql_query(file_path, query_file, file_format)"
      ]
    },
    {
      "cell_type": "markdown",
      "metadata": {},
      "source": [
        "#### Provider"
      ]
    },
    {
      "cell_type": "code",
      "execution_count": 20,
      "metadata": {},
      "outputs": [
        {
          "name": "stdout",
          "output_type": "stream",
          "text": [
            "    permission                       actions                                                                                            target                          assignee\n",
            "--  -------------------------------  -------------------------------------------------------------------------------------------------  ------------------------------  ---------------------------\n",
            " 0  http://example.com/permission02  http://www.w3.org/ns/odrl/2/modify                                                                 http://example.com/service01    http://example.com/elsevier\n",
            " 1  http://example.com/permission04  https://w3id.org/tosl/terminate                                                                    http://example.com/service01    http://example.com/elsevier\n",
            " 2  http://example.com/permission05  http://www.w3.org/ns/odrl/2/modify, https://w3id.org/tosl/terminate, https://w3id.org/tosl/remove  http://example.com/service01    http://example.com/elsevier\n",
            " 3  http://example.com/permission06  https://w3id.org/tosl/terminate                                                                    http://example.com/service01    http://example.com/elsevier\n",
            " 4  http://example.com/permission13  https://w3id.org/tosl/terminate                                                                    http://example.com/agreement01  http://example.com/elsevier\n"
          ]
        }
      ],
      "source": [
        "query_file = \"../../sparql_queries/obligations_permissions_prohibition/get_provider_permissions.rq\" \n",
        "run_sparql_query(file_path, query_file, file_format)"
      ]
    },
    {
      "cell_type": "markdown",
      "metadata": {},
      "source": [
        "#### Customer"
      ]
    },
    {
      "cell_type": "code",
      "execution_count": 21,
      "metadata": {},
      "outputs": [
        {
          "name": "stdout",
          "output_type": "stream",
          "text": [
            "    permission                       actions                               target                          assignee\n",
            "--  -------------------------------  ------------------------------------  ------------------------------  -----------------------------\n",
            " 0  http://example.com/permission01  http://www.w3.org/ns/odrl/2/use       http://example.com/service01    http://example.com/customer01\n",
            " 1  http://example.com/permission03  n1214f14527534ff0be70b2ef0df1aeecb9   http://example.com/service01    http://example.com/customer01\n",
            " 2  http://example.com/permission07  n1214f14527534ff0be70b2ef0df1aeecb22  http://example.com/service01    http://example.com/customer01\n",
            " 3  http://example.com/permission08  http://www.w3.org/ns/odrl/2/use       http://example.com/service01    http://example.com/customer01\n",
            " 4  http://example.com/permission09  n1214f14527534ff0be70b2ef0df1aeecb25  http://example.com/service01    http://example.com/customer01\n",
            " 5  http://example.com/permission10  http://www.w3.org/ns/odrl/2/use       http://example.com/asset01      http://example.com/customer01\n",
            " 6  http://example.com/permission10  http://www.w3.org/ns/odrl/2/use       http://example.com/asset02      http://example.com/customer01\n",
            " 7  http://example.com/permission10  http://www.w3.org/ns/odrl/2/use       http://example.com/asset03      http://example.com/customer01\n",
            " 8  http://example.com/permission11  n1214f14527534ff0be70b2ef0df1aeecb30  http://example.com/advertising  http://example.com/customer01\n",
            " 9  http://example.com/permission12  https://w3id.org/tosl/terminate       http://example.com/agreement01  http://example.com/customer01\n"
          ]
        }
      ],
      "source": [
        "query_file = \"../../sparql_queries/obligations_permissions_prohibition/get_customer_permissions.rq\" \n",
        "run_sparql_query(file_path, query_file, file_format)"
      ]
    },
    {
      "cell_type": "markdown",
      "metadata": {},
      "source": [
        "## Duties and number of duties"
      ]
    },
    {
      "cell_type": "code",
      "execution_count": 22,
      "metadata": {},
      "outputs": [
        {
          "name": "stdout",
          "output_type": "stream",
          "text": [
            "      totalDuties\n",
            "--  -------------\n",
            " 0             10\n"
          ]
        }
      ],
      "source": [
        "query_file = \"../../sparql_queries/obligations_permissions_prohibition/total_duties.rq\" \n",
        "run_sparql_query(file_path, query_file, file_format)"
      ]
    },
    {
      "cell_type": "code",
      "execution_count": 23,
      "metadata": {},
      "outputs": [
        {
          "name": "stdout",
          "output_type": "stream",
          "text": [
            "    duty                                  actions                               target                                       assignee\n",
            "--  ------------------------------------  ------------------------------------  -------------------------------------------  -----------------------------\n",
            " 0  nee1c21988c9b40c9aa04d7e5b57fdb10b1   https://w3id.org/tosl/consent         http://example.com/agreement01               http://example.com/customer01\n",
            " 1  nee1c21988c9b40c9aa04d7e5b57fdb10b3   http://www.w3.org/ns/odrl/2/inform    http://example.com/agreement01               http://example.com/elsevier\n",
            " 2  nee1c21988c9b40c9aa04d7e5b57fdb10b5   https://w3id.org/tosl/publish         http://example.com/apiNewAgreement           http://example.com/elsevier\n",
            " 3  nee1c21988c9b40c9aa04d7e5b57fdb10b7   https://w3id.org/tosl/publish         http://example.com/modificationsInAgreement  http://example.com/elsevier\n",
            " 4  nee1c21988c9b40c9aa04d7e5b57fdb10b11  http://www.w3.org/ns/odrl/2/inform    http://example.com/agreement01               http://example.com/customer01\n",
            " 5  nee1c21988c9b40c9aa04d7e5b57fdb10b19  http://www.w3.org/ns/odrl/2/inform    http://example.com/service01                 http://example.com/elsevier\n",
            " 6  nee1c21988c9b40c9aa04d7e5b57fdb10b27  nee1c21988c9b40c9aa04d7e5b57fdb10b28  http://example.com/asset01                   http://example.com/elsevier\n",
            " 7  nee1c21988c9b40c9aa04d7e5b57fdb10b27  nee1c21988c9b40c9aa04d7e5b57fdb10b28  http://example.com/asset02                   http://example.com/elsevier\n",
            " 8  nee1c21988c9b40c9aa04d7e5b57fdb10b27  nee1c21988c9b40c9aa04d7e5b57fdb10b28  http://example.com/asset03                   http://example.com/elsevier\n",
            " 9  nee1c21988c9b40c9aa04d7e5b57fdb10b32  nee1c21988c9b40c9aa04d7e5b57fdb10b33  http://example.com/advertising               http://example.com/elsevier\n",
            "10  nee1c21988c9b40c9aa04d7e5b57fdb10b35  http://www.w3.org/ns/odrl/2/inform    http://example.com/agreement01               http://example.com/customer01\n",
            "11  nee1c21988c9b40c9aa04d7e5b57fdb10b37  http://www.w3.org/ns/odrl/2/inform    http://example.com/agreement01               http://example.com/customer01\n"
          ]
        }
      ],
      "source": [
        "query_file = \"../../sparql_queries/obligations_permissions_prohibition/get_duties.rq\" \n",
        "run_sparql_query(file_path, query_file, file_format)"
      ]
    },
    {
      "cell_type": "markdown",
      "metadata": {},
      "source": [
        "#### Provider"
      ]
    },
    {
      "cell_type": "code",
      "execution_count": 24,
      "metadata": {},
      "outputs": [
        {
          "name": "stdout",
          "output_type": "stream",
          "text": [
            "    duty                                  actions                               target                                       assignee\n",
            "--  ------------------------------------  ------------------------------------  -------------------------------------------  ---------------------------\n",
            " 0  nf84ef26c9a7e4632aa1892ad6ab88674b3   http://www.w3.org/ns/odrl/2/inform    http://example.com/agreement01               http://example.com/elsevier\n",
            " 1  nf84ef26c9a7e4632aa1892ad6ab88674b5   https://w3id.org/tosl/publish         http://example.com/apiNewAgreement           http://example.com/elsevier\n",
            " 2  nf84ef26c9a7e4632aa1892ad6ab88674b7   https://w3id.org/tosl/publish         http://example.com/modificationsInAgreement  http://example.com/elsevier\n",
            " 3  nf84ef26c9a7e4632aa1892ad6ab88674b19  http://www.w3.org/ns/odrl/2/inform    http://example.com/service01                 http://example.com/elsevier\n",
            " 4  nf84ef26c9a7e4632aa1892ad6ab88674b27  nf84ef26c9a7e4632aa1892ad6ab88674b28  http://example.com/asset01                   http://example.com/elsevier\n",
            " 5  nf84ef26c9a7e4632aa1892ad6ab88674b27  nf84ef26c9a7e4632aa1892ad6ab88674b28  http://example.com/asset02                   http://example.com/elsevier\n",
            " 6  nf84ef26c9a7e4632aa1892ad6ab88674b27  nf84ef26c9a7e4632aa1892ad6ab88674b28  http://example.com/asset03                   http://example.com/elsevier\n",
            " 7  nf84ef26c9a7e4632aa1892ad6ab88674b32  nf84ef26c9a7e4632aa1892ad6ab88674b33  http://example.com/advertising               http://example.com/elsevier\n"
          ]
        }
      ],
      "source": [
        "query_file = \"../../sparql_queries/obligations_permissions_prohibition/get_provider_duties.rq\" \n",
        "run_sparql_query(file_path, query_file, file_format)"
      ]
    },
    {
      "cell_type": "markdown",
      "metadata": {},
      "source": [
        "#### Customer"
      ]
    },
    {
      "cell_type": "code",
      "execution_count": 25,
      "metadata": {},
      "outputs": [
        {
          "name": "stdout",
          "output_type": "stream",
          "text": [
            "    duty                                  actions                             target                          assignee\n",
            "--  ------------------------------------  ----------------------------------  ------------------------------  -----------------------------\n",
            " 0  n522255934b364dbaae6b405b51b6ae94b1   https://w3id.org/tosl/consent       http://example.com/agreement01  http://example.com/customer01\n",
            " 1  n522255934b364dbaae6b405b51b6ae94b11  http://www.w3.org/ns/odrl/2/inform  http://example.com/agreement01  http://example.com/customer01\n",
            " 2  n522255934b364dbaae6b405b51b6ae94b35  http://www.w3.org/ns/odrl/2/inform  http://example.com/agreement01  http://example.com/customer01\n",
            " 3  n522255934b364dbaae6b405b51b6ae94b37  http://www.w3.org/ns/odrl/2/inform  http://example.com/agreement01  http://example.com/customer01\n"
          ]
        }
      ],
      "source": [
        "query_file = \"../../sparql_queries/obligations_permissions_prohibition/get_customer_duties.rq\" \n",
        "run_sparql_query(file_path, query_file, file_format)"
      ]
    },
    {
      "cell_type": "markdown",
      "metadata": {},
      "source": [
        "## Prohibitions and number of prohibitions"
      ]
    },
    {
      "cell_type": "code",
      "execution_count": 26,
      "metadata": {},
      "outputs": [
        {
          "name": "stdout",
          "output_type": "stream",
          "text": [
            "      totalProhibitions\n",
            "--  -------------------\n",
            " 0                    2\n"
          ]
        }
      ],
      "source": [
        "query_file = \"../../sparql_queries/obligations_permissions_prohibition/total_prohibitions.rq\" \n",
        "run_sparql_query(file_path, query_file, file_format)"
      ]
    },
    {
      "cell_type": "code",
      "execution_count": 27,
      "metadata": {},
      "outputs": [
        {
          "name": "stdout",
          "output_type": "stream",
          "text": [
            "    prohibition                       actions                                 target                        assignee\n",
            "--  --------------------------------  --------------------------------------  ----------------------------  -----------------------------\n",
            " 0  http://example.com/prohibition01  http://www.w3.org/ns/odrl/2/distribute  http://example.com/service01  http://example.com/customer01\n",
            " 1  http://example.com/prohibition02  https://w3id.org/tosl/procedure         http://example.com/service01  http://example.com/customer01\n"
          ]
        }
      ],
      "source": [
        "query_file = \"../../sparql_queries/obligations_permissions_prohibition/get_prohibitions.rq\" \n",
        "run_sparql_query(file_path, query_file, file_format)"
      ]
    },
    {
      "cell_type": "markdown",
      "metadata": {},
      "source": [
        "#### Provider"
      ]
    },
    {
      "cell_type": "code",
      "execution_count": 28,
      "metadata": {},
      "outputs": [
        {
          "name": "stdout",
          "output_type": "stream",
          "text": [
            "\n"
          ]
        }
      ],
      "source": [
        "query_file = \"../../sparql_queries/obligations_permissions_prohibition/get_provider_prohibitions.rq\" \n",
        "run_sparql_query(file_path, query_file, file_format)"
      ]
    },
    {
      "cell_type": "markdown",
      "metadata": {},
      "source": [
        "#### Customer"
      ]
    },
    {
      "cell_type": "code",
      "execution_count": 29,
      "metadata": {},
      "outputs": [
        {
          "name": "stdout",
          "output_type": "stream",
          "text": [
            "    prohibition                       actions                                 target                        assignee\n",
            "--  --------------------------------  --------------------------------------  ----------------------------  -----------------------------\n",
            " 0  http://example.com/prohibition01  http://www.w3.org/ns/odrl/2/distribute  http://example.com/service01  http://example.com/customer01\n",
            " 1  http://example.com/prohibition02  https://w3id.org/tosl/procedure         http://example.com/service01  http://example.com/customer01\n"
          ]
        }
      ],
      "source": [
        "query_file = \"../../sparql_queries/obligations_permissions_prohibition/get_customer_prohibitions.rq\" \n",
        "run_sparql_query(file_path, query_file, file_format)"
      ]
    }
  ],
  "metadata": {
    "colab": {
      "provenance": []
    },
    "kernelspec": {
      "display_name": "base",
      "language": "python",
      "name": "python3"
    },
    "language_info": {
      "codemirror_mode": {
        "name": "ipython",
        "version": 3
      },
      "file_extension": ".py",
      "mimetype": "text/x-python",
      "name": "python",
      "nbconvert_exporter": "python",
      "pygments_lexer": "ipython3",
      "version": "3.11.7"
    }
  },
  "nbformat": 4,
  "nbformat_minor": 0
}

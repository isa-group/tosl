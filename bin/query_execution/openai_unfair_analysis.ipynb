{
  "cells": [
    {
      "cell_type": "code",
      "execution_count": 1,
      "metadata": {
        "id": "FEc7bXNT3LYC"
      },
      "outputs": [
        {
          "name": "stdout",
          "output_type": "stream",
          "text": [
            "\u001b[31mERROR: Could not open requirements file: [Errno 2] No such file or directory: 'requirements.txt'\u001b[0m\u001b[31m\n",
            "\u001b[0m"
          ]
        }
      ],
      "source": [
        "! pip install -r requirements.txt"
      ]
    },
    {
      "cell_type": "markdown",
      "metadata": {},
      "source": [
        "# Open AI EU Terms of Use\n",
        "This notebook contains the execution of 8 queries to identify potentially unfair terms in the TOSL representation of the agreement.\n",
        "\n",
        "The following code allows the queries to be executed automatically."
      ]
    },
    {
      "cell_type": "code",
      "execution_count": 7,
      "metadata": {},
      "outputs": [],
      "source": [
        "import warnings\n",
        "warnings.filterwarnings(\"ignore\")\n",
        "\n",
        "import pandas as pd\n",
        "from tabulate import tabulate\n",
        "from rdflib import Graph\n",
        "\n",
        "def tabulate_result(results):\n",
        "    rows = [row.asdict() for row in results]\n",
        "    df = pd.DataFrame(rows)\n",
        "    print(tabulate(df, headers=df.columns))\n",
        "\n",
        "def run_sparql_query(file_path, query_file, file_format=\"ttl\"):\n",
        "    g = Graph()\n",
        "    g.parse(file_path, format=file_format)\n",
        "\n",
        "    with open(query_file, \"r\") as f:\n",
        "        query = f.read()\n",
        "\n",
        "    results = g.query(query)\n",
        "    tabulate_result(results)\n",
        "\n",
        "file_path = \"../examples/openai/Europe_terms_of_use_2024.ttl\"  # Update file path\n",
        "file_format = \"ttl\" "
      ]
    },
    {
      "cell_type": "markdown",
      "metadata": {},
      "source": [
        "## Unfair Arbitration Terms\n",
        "Does the agreement include any arbitration clauses? If so, are they related to litigation?"
      ]
    },
    {
      "cell_type": "code",
      "execution_count": 8,
      "metadata": {},
      "outputs": [
        {
          "name": "stdout",
          "output_type": "stream",
          "text": [
            "\n"
          ]
        }
      ],
      "source": [
        "query_file = \"../../sparql_queries/unfair_terms/arbitration.rq\" \n",
        "run_sparql_query(file_path, query_file, file_format)"
      ]
    },
    {
      "cell_type": "markdown",
      "metadata": {},
      "source": [
        "## Unfair Choice by Law\n",
        "Are there any dispute resolution clauses that apply a law other than the consumer’s place of residence?"
      ]
    },
    {
      "cell_type": "code",
      "execution_count": 9,
      "metadata": {},
      "outputs": [
        {
          "name": "stdout",
          "output_type": "stream",
          "text": [
            "\n"
          ]
        }
      ],
      "source": [
        "query_file = \"../../sparql_queries/unfair_terms/choice_of_law.rq\" \n",
        "run_sparql_query(file_path, query_file, file_format)"
      ]
    },
    {
      "cell_type": "markdown",
      "metadata": {},
      "source": [
        "## Unfair Content Removal \n",
        "Is removal allowed without reason, notice, or possibility of recovery?"
      ]
    },
    {
      "cell_type": "code",
      "execution_count": 10,
      "metadata": {},
      "outputs": [
        {
          "name": "stdout",
          "output_type": "stream",
          "text": [
            "    permission                       action                        assignee                   target\n",
            "--  -------------------------------  ----------------------------  -------------------------  ------------------------------\n",
            " 0  http://example.com/permission21  https://w3id.org/tosl/remove  http://example.com/OpenAI  http://example.com/userAccount\n"
          ]
        }
      ],
      "source": [
        "query_file = \"../../sparql_queries/unfair_terms/content_removal.rq\" \n",
        "run_sparql_query(file_path, query_file, file_format)"
      ]
    },
    {
      "cell_type": "markdown",
      "metadata": {},
      "source": [
        "## Unfair Contract by Using\n",
        "Is the consumer considered to have accepted the contract by mere use or implied consent?\t"
      ]
    },
    {
      "cell_type": "code",
      "execution_count": 11,
      "metadata": {},
      "outputs": [
        {
          "name": "stdout",
          "output_type": "stream",
          "text": [
            "    duty                                  action                         assignee                     target\n",
            "--  ------------------------------------  -----------------------------  ---------------------------  ------------------------------\n",
            " 0  http://example.com/obligation01       https://w3id.org/tosl/consent  http://example.com/customer  http://example.com/agreement01\n",
            " 1  n7f7d2df0a6954bb5886a2f16aedeb855b10  https://w3id.org/tosl/consent  http://example.com/customer  http://example.com/agreement01\n"
          ]
        }
      ],
      "source": [
        "query_file = \"../../sparql_queries/unfair_terms/contract_by_use.rq\" \n",
        "run_sparql_query(file_path, query_file, file_format)"
      ]
    },
    {
      "cell_type": "markdown",
      "metadata": {},
      "source": [
        "## Unfair Jurisdiction\n",
        "Does the dispute take place in the courts of a city or country other than the consumer's country of residence?\t"
      ]
    },
    {
      "cell_type": "code",
      "execution_count": 12,
      "metadata": {},
      "outputs": [
        {
          "name": "stdout",
          "output_type": "stream",
          "text": [
            "\n"
          ]
        }
      ],
      "source": [
        "query_file = \"../../sparql_queries/unfair_terms/jurisdiction.rq\" \n",
        "run_sparql_query(file_path, query_file, file_format)"
      ]
    },
    {
      "cell_type": "markdown",
      "metadata": {},
      "source": [
        "## Unfair Limitation of Liability\n",
        "Does the supplier exclude or limit his liabilities or any contractual obligations?"
      ]
    },
    {
      "cell_type": "code",
      "execution_count": 15,
      "metadata": {},
      "outputs": [
        {
          "name": "stdout",
          "output_type": "stream",
          "text": [
            "    liability                       description                                                                                                                                                                        limitationOn                    type                                     liableParty\n",
            "--  ------------------------------  ---------------------------------------------------------------------------------------------------------------------------------------------------------------------------------  ------------------------------  ---------------------------------------  -------------------------\n",
            " 0  http://example.com/liability01  Third Party Services and Third Party Output are subject to their own terms, and we are not responsible for them.                                                                   http://example.com/services     https://w3id.org/tosl/thirdparty         http://example.com/OpenAI\n",
            " 1  http://example.com/liability02  Output generated by the Services may not accurately reflect real people, places, or facts. Do not rely on Output as a sole source of truth or substitute for professional advice.  http://example.com/services     https://w3id.org/tosl/serviceContent     http://example.com/OpenAI\n",
            " 2  http://example.com/liability03  We do not promise to offer the Services forever or in their current form for any particular period of time                                                                         http://example.com/services     https://w3id.org/tosl/discontinuity      http://example.com/OpenAI\n",
            " 3  http://example.com/liability04  Provided that we have acted with professional diligence, we do not take responsibility for loss or damage caused by us                                                             http://example.com/agreement01  https://w3id.org/tosl/anyIndirectDamage  http://example.com/OpenAI\n",
            " 4  http://example.com/liability04  Provided that we have acted with professional diligence, we do not take responsibility for loss or damage caused by us                                                             http://example.com/agreement01  https://w3id.org/tosl/anyLoss            http://example.com/OpenAI\n"
          ]
        }
      ],
      "source": [
        "query_file = \"../../sparql_queries/unfair_terms/limitation_of_liability.rq\" \n",
        "run_sparql_query(file_path, query_file, file_format)"
      ]
    },
    {
      "cell_type": "markdown",
      "metadata": {},
      "source": [
        "## Unfair Unilateral Change\n",
        "Are changes made unilaterally without reason or prior notice?\t"
      ]
    },
    {
      "cell_type": "code",
      "execution_count": 16,
      "metadata": {},
      "outputs": [
        {
          "name": "stdout",
          "output_type": "stream",
          "text": [
            "    permission                       description                                                                                                                                                                                                                                                   action                              target\n",
            "--  -------------------------------  ------------------------------------------------------------------------------------------------------------------------------------------------------------------------------------------------------------------------------------------------------------  ----------------------------------  -------------------------------\n",
            " 0  http://example.com/permission14  We may change our prices from time to time. If we increase our subscription prices, we will give you at least 30 days’ notice and any price increase will take effect on your next renewal so that you can cancel if you do not agree to the price increase.  http://www.w3.org/ns/odrl/2/modify  http://example.com/paidFeatures\n"
          ]
        }
      ],
      "source": [
        "query_file = \"../../sparql_queries/unfair_terms/change.rq\" \n",
        "run_sparql_query(file_path, query_file, file_format)"
      ]
    },
    {
      "cell_type": "markdown",
      "metadata": {},
      "source": [
        "## Unfair Unilateral Termination\n",
        "Is it permitted to terminate the contract unilaterally, without justification or prior notice?"
      ]
    },
    {
      "cell_type": "code",
      "execution_count": 17,
      "metadata": {},
      "outputs": [
        {
          "name": "stdout",
          "output_type": "stream",
          "text": [
            "    permission                       description                                                                                                                                           action                           assignee                   target\n",
            "--  -------------------------------  ----------------------------------------------------------------------------------------------------------------------------------------------------  -------------------------------  -------------------------  ------------------------------\n",
            " 0  http://example.com/permission20  OpenAI may suspend or terminate your access to Services or close your account if: (4) your account has been inactive for over a year and is not paid  https://w3id.org/tosl/terminate  http://example.com/OpenAI  http://example.com/userAccount\n"
          ]
        }
      ],
      "source": [
        "query_file = \"../../sparql_queries/unfair_terms/termination.rq\" \n",
        "run_sparql_query(file_path, query_file, file_format)"
      ]
    },
    {
      "cell_type": "markdown",
      "metadata": {},
      "source": [
        "## Number of Rules\n"
      ]
    },
    {
      "cell_type": "code",
      "execution_count": 18,
      "metadata": {},
      "outputs": [
        {
          "name": "stdout",
          "output_type": "stream",
          "text": [
            "      totalElements\n",
            "--  ---------------\n",
            " 0               44\n"
          ]
        }
      ],
      "source": [
        "query_file = \"../../sparql_queries/obligations_permissions_prohibition/total_rules.rq\" \n",
        "run_sparql_query(file_path, query_file, file_format)"
      ]
    },
    {
      "cell_type": "markdown",
      "metadata": {},
      "source": [
        "## Permissions and number of permissions"
      ]
    },
    {
      "cell_type": "code",
      "execution_count": 19,
      "metadata": {},
      "outputs": [
        {
          "name": "stdout",
          "output_type": "stream",
          "text": [
            "      totalPermissions\n",
            "--  ------------------\n",
            " 0                  26\n"
          ]
        }
      ],
      "source": [
        "query_file = \"../../sparql_queries/obligations_permissions_prohibition/total_permissions.rq\" \n",
        "run_sparql_query(file_path, query_file, file_format)"
      ]
    },
    {
      "cell_type": "code",
      "execution_count": 20,
      "metadata": {},
      "outputs": [
        {
          "name": "stdout",
          "output_type": "stream",
          "text": [
            "    permission                       actions                                                                   targets                                                      assignee\n",
            "--  -------------------------------  ------------------------------------------------------------------------  -----------------------------------------------------------  ---------------------------\n",
            " 0  http://example.com/permission01  http://www.w3.org/ns/odrl/2/use                                           http://example.com/services                                  http://example.com/customer\n",
            " 1  http://example.com/permission02  https://w3id.org/tosl/allowDownload, http://www.w3.org/ns/odrl/2/install  http://example.com/services                                  http://example.com/customer\n",
            " 2  http://example.com/permission03  http://www.w3.org/ns/odrl/2/transfer                                      http://example.com/userAccount                               http://example.com/customer\n",
            " 3  http://example.com/permission04  http://www.w3.org/ns/odrl/2/use                                           http://example.com/thirdPartyServices                        http://example.com/OpenAI\n",
            " 4  http://example.com/permission05  http://www.w3.org/ns/odrl/2/use                                           http://example.com/userFeedback                              http://example.com/OpenAI\n",
            " 5  http://example.com/permission06  http://www.w3.org/ns/odrl/2/use                                           http://example.com/content                                   http://example.com/customer\n",
            " 6  http://example.com/permission07  http://www.w3.org/ns/odrl/2/use                                           http://example.com/content                                   http://example.com/OpenAI\n",
            " 7  http://example.com/permission08  http://www.w3.org/ns/odrl/2/use                                           http://example.com/content                                   http://example.com/customer\n",
            " 8  http://example.com/permission09  http://www.w3.org/ns/odrl/2/use                                           http://example.com/openaiBrand                               http://example.com/customer\n",
            " 9  http://example.com/permission10  http://www.w3.org/ns/odrl/2/use                                           http://example.com/paidFeatures                              http://example.com/customer\n",
            "10  http://example.com/permission11  http://www.w3.org/ns/odrl/2/use                                           http://example.com/serviceCredits                            http://example.com/customer\n",
            "11  http://example.com/permission12  https://w3id.org/tosl/terminate                                           http://example.com/paidFeatures                              http://example.com/customer\n",
            "12  http://example.com/permission13  https://w3id.org/tosl/terminate                                           http://example.com/paidFeatures                              http://example.com/customer\n",
            "13  http://example.com/permission14  http://www.w3.org/ns/odrl/2/modify                                        http://example.com/paidFeatures                              http://example.com/OpenAI\n",
            "14  http://example.com/permission15  https://w3id.org/tosl/terminate                                           http://example.com/services                                  http://example.com/customer\n",
            "15  http://example.com/permission16  https://w3id.org/tosl/terminate                                           http://example.com/agreement01                               http://example.com/customer\n",
            "16  http://example.com/permission17  https://w3id.org/tosl/terminate                                           http://example.com/userAccount                               http://example.com/OpenAI\n",
            "17  http://example.com/permission18  https://w3id.org/tosl/terminate                                           http://example.com/userAccount                               http://example.com/OpenAI\n",
            "18  http://example.com/permission19  https://w3id.org/tosl/terminate                                           http://example.com/userAccount                               http://example.com/OpenAI\n",
            "19  http://example.com/permission20  https://w3id.org/tosl/terminate                                           http://example.com/userAccount                               http://example.com/OpenAI\n",
            "20  http://example.com/permission21  https://w3id.org/tosl/remove                                              http://example.com/userAccount                               http://example.com/OpenAI\n",
            "21  http://example.com/permission22  https://w3id.org/tosl/appeal                                              http://example.com/userAccount                               http://example.com/customer\n",
            "22  http://example.com/permission23  http://www.w3.org/ns/odrl/2/inform                                        http://example.com/disputeResolution                         http://example.com/customer\n",
            "23  http://example.com/permission24  https://w3id.org/tosl/claim                                               http://example.com/infringIPRight                            http://example.com/customer\n",
            "24  http://example.com/permission25  https://w3id.org/tosl/assign                                              http://example.com/agreement01                               http://example.com/OpenAI\n",
            "25  http://example.com/permission26  http://www.w3.org/ns/odrl/2/modify                                        http://example.com/agreement01, http://example.com/services  http://example.com/OpenAI\n"
          ]
        }
      ],
      "source": [
        "query_file = \"../../sparql_queries/obligations_permissions_prohibition/get_permissions.rq\" \n",
        "run_sparql_query(file_path, query_file, file_format)"
      ]
    },
    {
      "cell_type": "markdown",
      "metadata": {},
      "source": [
        "## Duties and number of duties"
      ]
    },
    {
      "cell_type": "code",
      "execution_count": 21,
      "metadata": {},
      "outputs": [
        {
          "name": "stdout",
          "output_type": "stream",
          "text": [
            "      totalDuties\n",
            "--  -------------\n",
            " 0             15\n"
          ]
        }
      ],
      "source": [
        "query_file = \"../../sparql_queries/obligations_permissions_prohibition/total_duties.rq\" \n",
        "run_sparql_query(file_path, query_file, file_format)"
      ]
    },
    {
      "cell_type": "code",
      "execution_count": 22,
      "metadata": {},
      "outputs": [
        {
          "name": "stdout",
          "output_type": "stream",
          "text": [
            "    duty                                   actions                                 targets                                                      assignee\n",
            "--  -------------------------------------  --------------------------------------  -----------------------------------------------------------  -----------------------------------\n",
            " 0  http://example.com/obligation01        https://w3id.org/tosl/consent           http://example.com/agreement01                               http://example.com/customer\n",
            " 1  n9282a7c184de4b61a2e1773796039ccab10   https://w3id.org/tosl/consent           http://example.com/agreement01                               http://example.com/customer\n",
            " 2  n9282a7c184de4b61a2e1773796039ccab20   https://w3id.org/tosl/evaluate          http://example.com/content                                   http://example.com/customer\n",
            " 3  n9282a7c184de4b61a2e1773796039ccab23   http://www.w3.org/ns/odrl/2/compensate  http://example.com/paidFeatures                              http://example.com/customer\n",
            " 4  n9282a7c184de4b61a2e1773796039ccab25   http://www.w3.org/ns/odrl/2/inform      http://example.com/billingData                               http://example.com/customer\n",
            " 5  n9282a7c184de4b61a2e1773796039ccab28   http://www.w3.org/ns/odrl/2/compensate  http://example.com/paidFeatures                              http://example.com/OpenAI\n",
            " 6  n9282a7c184de4b61a2e1773796039ccab30   http://www.w3.org/ns/odrl/2/inform      http://example.com/paidFeatures                              http://example.com/OpenAI\n",
            " 7  n9282a7c184de4b61a2e1773796039ccab67   http://www.w3.org/ns/odrl/2/inform      http://example.com/agreement01                               http://example.com/customer\n",
            " 8  n9282a7c184de4b61a2e1773796039ccab69   http://www.w3.org/ns/odrl/2/inform      http://example.com/userAccount                               http://example.com/OpenAI\n",
            " 9  n9282a7c184de4b61a2e1773796039ccab71   http://www.w3.org/ns/odrl/2/inform      http://example.com/userAccount                               http://example.com/OpenAI\n",
            "10  n9282a7c184de4b61a2e1773796039ccab73   http://www.w3.org/ns/odrl/2/inform      http://example.com/userAccount                               http://example.com/OpenAI\n",
            "11  n9282a7c184de4b61a2e1773796039ccab79   http://www.w3.org/ns/odrl/2/inform      http://example.com/userAccount                               http://example.com/OpenAI\n",
            "12  n9282a7c184de4b61a2e1773796039ccab121  http://www.w3.org/ns/odrl/2/inform      http://example.com/infringIPRight                            http://example.com/customer\n",
            "13  n9282a7c184de4b61a2e1773796039ccab129  http://www.w3.org/ns/odrl/2/inform      http://example.com/agreement01, http://example.com/services  http://example.com/OpenAI\n",
            "14  http://example.com/obligation02        http://www.w3.org/ns/odrl/2/compensate  http://example.com/services                                  http://example.com/businessCustomer\n"
          ]
        }
      ],
      "source": [
        "query_file = \"../../sparql_queries/obligations_permissions_prohibition/get_duties.rq\" \n",
        "run_sparql_query(file_path, query_file, file_format)"
      ]
    },
    {
      "cell_type": "markdown",
      "metadata": {},
      "source": [
        "## Prohibitions and number of prohibitions"
      ]
    },
    {
      "cell_type": "code",
      "execution_count": 25,
      "metadata": {},
      "outputs": [
        {
          "name": "stdout",
          "output_type": "stream",
          "text": [
            "      totalProhibitions\n",
            "--  -------------------\n",
            " 0                    3\n"
          ]
        }
      ],
      "source": [
        "query_file = \"../../sparql_queries/obligations_permissions_prohibition/total_prohibitions.rq\" \n",
        "run_sparql_query(file_path, query_file, file_format)"
      ]
    },
    {
      "cell_type": "code",
      "execution_count": 26,
      "metadata": {},
      "outputs": [
        {
          "name": "stdout",
          "output_type": "stream",
          "text": [
            "    prohibition                       actions                                                                                                                                                                                                                                                                                               targets                         assignee\n",
            "--  --------------------------------  ----------------------------------------------------------------------------------------------------------------------------------------------------------------------------------------------------------------------------------------------------------------------------------------------------  ------------------------------  ---------------------------\n",
            " 0  http://example.com/prohibition01  http://www.w3.org/ns/odrl/2/derive, http://www.w3.org/ns/odrl/2/distribute, http://www.w3.org/ns/odrl/2/extract, http://www.w3.org/ns/odrl/2/reproduce, http://www.w3.org/ns/odrl/2/sell, http://www.w3.org/ns/odrl/2/transfer, http://www.w3.org/ns/odrl/2/modify, http://www.w3.org/ns/odrl/2/read  http://example.com/services     http://example.com/customer\n",
            " 1  http://example.com/prohibition02  https://w3id.org/tosl/assign                                                                                                                                                                                                                                                                          http://example.com/agreement01  http://example.com/customer\n",
            " 2  http://example.com/prohibition03  http://www.w3.org/ns/odrl/2/use                                                                                                                                                                                                                                                                       http://example.com/services     http://example.com/customer\n"
          ]
        }
      ],
      "source": [
        "query_file = \"../../sparql_queries/obligations_permissions_prohibition/get_prohibitions.rq\" \n",
        "run_sparql_query(file_path, query_file, file_format)"
      ]
    }
  ],
  "metadata": {
    "colab": {
      "provenance": []
    },
    "kernelspec": {
      "display_name": "base",
      "language": "python",
      "name": "python3"
    },
    "language_info": {
      "codemirror_mode": {
        "name": "ipython",
        "version": 3
      },
      "file_extension": ".py",
      "mimetype": "text/x-python",
      "name": "python",
      "nbconvert_exporter": "python",
      "pygments_lexer": "ipython3",
      "version": "3.11.7"
    }
  },
  "nbformat": 4,
  "nbformat_minor": 0
}

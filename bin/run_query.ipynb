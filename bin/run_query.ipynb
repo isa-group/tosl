{
  "cells": [
    {
      "cell_type": "code",
      "execution_count": null,
      "metadata": {
        "id": "FEc7bXNT3LYC"
      },
      "outputs": [],
      "source": [
        "! pip install -r requirements.txt"
      ]
    },
    {
      "cell_type": "code",
      "execution_count": 29,
      "metadata": {
        "colab": {
          "base_uri": "https://localhost:8080/"
        },
        "id": "UrfTESEy6Ytk",
        "outputId": "cde1275b-50e8-4487-a7d3-039b475adc55"
      },
      "outputs": [
        {
          "name": "stdout",
          "output_type": "stream",
          "text": [
            "    permission                       action                           assignee                     target\n",
            "--  -------------------------------  -------------------------------  ---------------------------  ------------------------------\n",
            " 0  http://example.com/permission04  https://w3id.org/tosl/suspend    http://example.com/elsevier  http://example.com/service01\n",
            " 1  http://example.com/permission06  https://w3id.org/tosl/disable    http://example.com/elsevier  http://example.com/service01\n",
            " 2  http://example.com/permission13  https://w3id.org/tosl/terminate  http://example.com/elsevier  http://example.com/agreement01\n"
          ]
        }
      ],
      "source": [
        "import warnings\n",
        "warnings.filterwarnings(\"ignore\")\n",
        "\n",
        "import pandas as pd\n",
        "from tabulate import tabulate\n",
        "from rdflib import Graph\n",
        "\n",
        "def tabulate_result(results):\n",
        "    rows = [row.asdict() for row in results]\n",
        "    df = pd.DataFrame(rows)\n",
        "    print(tabulate(df, headers=df.columns))\n",
        "\n",
        "def run_sparql_query(file_path, query_file, file_format=\"ttl\"):\n",
        "    g = Graph()\n",
        "    g.parse(file_path, format=file_format)\n",
        "\n",
        "    with open(query_file, \"r\") as f:\n",
        "        query = f.read()\n",
        "\n",
        "    results = g.query(query)\n",
        "    tabulate_result(results)\n",
        "\n",
        "file_path = \"examples/elsevier/API_Service_Agreement_2017.ttl\"  # Update file path\n",
        "query_file = \"../sparql_queries/unfair_terms/termination.rq\"  # Update query file path\n",
        "file_format = \"ttl\" \n",
        "\n",
        "run_sparql_query(file_path, query_file, file_format)"
      ]
    },
    {
      "cell_type": "code",
      "execution_count": null,
      "metadata": {
        "id": "6jFoGg-X7Iwl"
      },
      "outputs": [],
      "source": []
    }
  ],
  "metadata": {
    "colab": {
      "provenance": []
    },
    "kernelspec": {
      "display_name": "base",
      "language": "python",
      "name": "python3"
    },
    "language_info": {
      "codemirror_mode": {
        "name": "ipython",
        "version": 3
      },
      "file_extension": ".py",
      "mimetype": "text/x-python",
      "name": "python",
      "nbconvert_exporter": "python",
      "pygments_lexer": "ipython3",
      "version": "3.11.7"
    }
  },
  "nbformat": 4,
  "nbformat_minor": 0
}

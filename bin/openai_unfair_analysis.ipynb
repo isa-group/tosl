{
  "cells": [
    {
      "cell_type": "code",
      "execution_count": null,
      "metadata": {
        "id": "FEc7bXNT3LYC"
      },
      "outputs": [],
      "source": [
        "! pip install -r requirements.txt"
      ]
    },
    {
      "cell_type": "markdown",
      "metadata": {},
      "source": [
        "# Open AI EU Terms of Use\n",
        "This notebook contains the execution of 8 queries to identify potentially unfair terms in the TOSL representation of the agreement.\n",
        "\n",
        "The following code allows the queries to be executed automatically."
      ]
    },
    {
      "cell_type": "code",
      "execution_count": 2,
      "metadata": {},
      "outputs": [],
      "source": [
        "import warnings\n",
        "warnings.filterwarnings(\"ignore\")\n",
        "\n",
        "import pandas as pd\n",
        "from tabulate import tabulate\n",
        "from rdflib import Graph\n",
        "\n",
        "def tabulate_result(results):\n",
        "    rows = [row.asdict() for row in results]\n",
        "    df = pd.DataFrame(rows)\n",
        "    print(tabulate(df, headers=df.columns))\n",
        "\n",
        "def run_sparql_query(file_path, query_file, file_format=\"ttl\"):\n",
        "    g = Graph()\n",
        "    g.parse(file_path, format=file_format)\n",
        "\n",
        "    with open(query_file, \"r\") as f:\n",
        "        query = f.read()\n",
        "\n",
        "    results = g.query(query)\n",
        "    tabulate_result(results)\n",
        "\n",
        "file_path = \"examples/openai/Europe_terms_of_use_2024.ttl\"  # Update file path\n",
        "file_format = \"ttl\" "
      ]
    },
    {
      "cell_type": "markdown",
      "metadata": {},
      "source": [
        "## Unfair Arbitration Terms\n",
        "Does the agreement include any arbitration clauses? If so, are they related to litigation?"
      ]
    },
    {
      "cell_type": "code",
      "execution_count": 6,
      "metadata": {},
      "outputs": [
        {
          "name": "stdout",
          "output_type": "stream",
          "text": [
            "\n"
          ]
        }
      ],
      "source": [
        "query_file = \"../sparql_queries/unfair_terms/arbitration.rq\" \n",
        "run_sparql_query(file_path, query_file, file_format)"
      ]
    },
    {
      "cell_type": "markdown",
      "metadata": {},
      "source": [
        "## Unfair Choice by Law\n",
        "Are there any dispute resolution clauses that apply a law other than the consumer’s place of residence?"
      ]
    },
    {
      "cell_type": "code",
      "execution_count": 7,
      "metadata": {},
      "outputs": [
        {
          "name": "stdout",
          "output_type": "stream",
          "text": [
            "\n"
          ]
        }
      ],
      "source": [
        "query_file = \"../sparql_queries/unfair_terms/choice_law.rq\" \n",
        "run_sparql_query(file_path, query_file, file_format)"
      ]
    },
    {
      "cell_type": "markdown",
      "metadata": {},
      "source": [
        "## Unfair Content Removal \n",
        "Is removal allowed without reason, notice, or possibility of recovery?"
      ]
    },
    {
      "cell_type": "code",
      "execution_count": 8,
      "metadata": {},
      "outputs": [
        {
          "name": "stdout",
          "output_type": "stream",
          "text": [
            "\n"
          ]
        }
      ],
      "source": [
        "query_file = \"../sparql_queries/unfair_terms/content_removal.rq\" \n",
        "run_sparql_query(file_path, query_file, file_format)"
      ]
    },
    {
      "cell_type": "markdown",
      "metadata": {},
      "source": [
        "## Unfair Contract by Using\n",
        "Is the consumer considered to have accepted the contract by mere use or implied consent?\t"
      ]
    },
    {
      "cell_type": "code",
      "execution_count": 9,
      "metadata": {},
      "outputs": [
        {
          "name": "stdout",
          "output_type": "stream",
          "text": [
            "\n"
          ]
        }
      ],
      "source": [
        "query_file = \"../sparql_queries/unfair_terms/contract_by_use.rq\" \n",
        "run_sparql_query(file_path, query_file, file_format)"
      ]
    },
    {
      "cell_type": "markdown",
      "metadata": {},
      "source": [
        "## Unfair Jurisdiction\n",
        "Does the dispute take place in the courts of a city or country other than the consumer's country of residence?\t"
      ]
    },
    {
      "cell_type": "code",
      "execution_count": 10,
      "metadata": {},
      "outputs": [
        {
          "name": "stdout",
          "output_type": "stream",
          "text": [
            "\n"
          ]
        }
      ],
      "source": [
        "query_file = \"../sparql_queries/unfair_terms/jurisdiction.rq\" \n",
        "run_sparql_query(file_path, query_file, file_format)"
      ]
    },
    {
      "cell_type": "markdown",
      "metadata": {},
      "source": [
        "## Unfair Limitation of Liability\n",
        "Does the supplier exclude or limit his liabilities or any contractual obligations?"
      ]
    },
    {
      "cell_type": "code",
      "execution_count": 11,
      "metadata": {},
      "outputs": [
        {
          "name": "stdout",
          "output_type": "stream",
          "text": [
            "    liability                       description                                                                                                                                                                        limitationOn                    type                                     liableParty\n",
            "--  ------------------------------  ---------------------------------------------------------------------------------------------------------------------------------------------------------------------------------  ------------------------------  ---------------------------------------  -------------------------\n",
            " 0  http://example.com/liability01  Third Party Services and Third Party Output are subject to their own terms, and we are not responsible for them.                                                                   http://example.com/services     https://w3id.org/tosl/thirdparty         http://example.com/OpenAI\n",
            " 1  http://example.com/liability02  Output generated by the Services may not accurately reflect real people, places, or facts. Do not rely on Output as a sole source of truth or substitute for professional advice.  http://example.com/services     https://w3id.org/tosl/serviceContent     http://example.com/OpenAI\n",
            " 2  http://example.com/liability03  We do not promise to offer the Services forever or in their current form for any particular period of time                                                                         http://example.com/services     https://w3id.org/tosl/discontinuity      http://example.com/OpenAI\n",
            " 3  http://example.com/liability04  Provided that we have acted with professional diligence, we do not take responsibility for loss or damage caused by us                                                             http://example.com/agreement01  https://w3id.org/tosl/anyIndirectDamage  http://example.com/OpenAI\n",
            " 4  http://example.com/liability04  Provided that we have acted with professional diligence, we do not take responsibility for loss or damage caused by us                                                             http://example.com/agreement01  https://w3id.org/tosl/anyLoss            http://example.com/OpenAI\n"
          ]
        }
      ],
      "source": [
        "query_file = \"../sparql_queries/unfair_terms/limitation_liability.rq\" \n",
        "run_sparql_query(file_path, query_file, file_format)"
      ]
    },
    {
      "cell_type": "markdown",
      "metadata": {},
      "source": [
        "## Unfair Unilateral Change\n",
        "Are changes made unilaterally without reason or prior notice?\t"
      ]
    },
    {
      "cell_type": "code",
      "execution_count": 16,
      "metadata": {},
      "outputs": [
        {
          "name": "stdout",
          "output_type": "stream",
          "text": [
            "    permission                       description                                                                                                                                                                                                                                                   action                              target\n",
            "--  -------------------------------  ------------------------------------------------------------------------------------------------------------------------------------------------------------------------------------------------------------------------------------------------------------  ----------------------------------  -------------------------------\n",
            " 0  http://example.com/permission14  We may change our prices from time to time. If we increase our subscription prices, we will give you at least 30 days’ notice and any price increase will take effect on your next renewal so that you can cancel if you do not agree to the price increase.  http://www.w3.org/ns/odrl/2/modify  http://example.com/paidFeatures\n"
          ]
        }
      ],
      "source": [
        "query_file = \"../sparql_queries/unfair_terms/change.rq\" \n",
        "run_sparql_query(file_path, query_file, file_format)"
      ]
    },
    {
      "cell_type": "markdown",
      "metadata": {},
      "source": [
        "## Unfair Unilateral Termination\n",
        "Is it permitted to terminate the contract unilaterally, without justification or prior notice?"
      ]
    },
    {
      "cell_type": "code",
      "execution_count": 13,
      "metadata": {},
      "outputs": [
        {
          "name": "stdout",
          "output_type": "stream",
          "text": [
            "    permission                       description                                                                                                                                           action                           assignee                   target\n",
            "--  -------------------------------  ----------------------------------------------------------------------------------------------------------------------------------------------------  -------------------------------  -------------------------  ------------------------------\n",
            " 0  http://example.com/permission20  OpenAI may suspend or terminate your access to Services or close your account if: (4) your account has been inactive for over a year and is not paid  https://w3id.org/tosl/terminate  http://example.com/OpenAI  http://example.com/userAccount\n"
          ]
        }
      ],
      "source": [
        "query_file = \"../sparql_queries/unfair_terms/termination.rq\" \n",
        "run_sparql_query(file_path, query_file, file_format)"
      ]
    }
  ],
  "metadata": {
    "colab": {
      "provenance": []
    },
    "kernelspec": {
      "display_name": "base",
      "language": "python",
      "name": "python3"
    },
    "language_info": {
      "codemirror_mode": {
        "name": "ipython",
        "version": 3
      },
      "file_extension": ".py",
      "mimetype": "text/x-python",
      "name": "python",
      "nbconvert_exporter": "python",
      "pygments_lexer": "ipython3",
      "version": "3.11.7"
    }
  },
  "nbformat": 4,
  "nbformat_minor": 0
}
